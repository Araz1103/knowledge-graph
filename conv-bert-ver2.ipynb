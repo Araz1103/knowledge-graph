{
 "cells": [
  {
   "cell_type": "markdown",
   "metadata": {},
   "source": [
    "## Building a Tiny Knowledge Graph with BERT and Graph Convolutions\n",
    "This notebook is the source of the code to build and test the graph described in the article\n"
   ]
  },
  {
   "cell_type": "code",
   "execution_count": 1,
   "metadata": {},
   "outputs": [],
   "source": [
    "import argparse\n",
    "import io\n",
    "import json\n",
    "import os\n",
    "\n",
    "from google.cloud import language\n",
    "import numpy\n",
    "import six"
   ]
  },
  {
   "cell_type": "markdown",
   "metadata": {},
   "source": [
    "The following is a simple function for cleaning and extracting sentences.   it was pulled from the web.  not sure of provenance."
   ]
  },
  {
   "cell_type": "code",
   "execution_count": 2,
   "metadata": {},
   "outputs": [],
   "source": [
    "# -*- coding: utf-8 -*-\n",
    "import re\n",
    "alphabets= \"([A-Za-z])\"\n",
    "prefixes = \"(Mr|St|Mrs|Ms|Dr)[.]\"\n",
    "suffixes = \"(Inc|Ltd|Jr|Sr|Co)\"\n",
    "starters = \"(Mr|Mrs|Ms|Dr|He\\s|She\\s|It\\s|They\\s|Their\\s|Our\\s|We\\s|But\\s|However\\s|That\\s|This\\s|Wherever)\"\n",
    "acronyms = \"([A-Z][.][A-Z][.](?:[A-Z][.])?)\"\n",
    "websites = \"[.](com|net|org|io|gov)\"\n",
    "\n",
    "def split_into_sentences(text):\n",
    "    text = \" \" + text + \"  \"\n",
    "    text = text.replace(\"\\n\",\" \")\n",
    "    text = re.sub(prefixes,\"\\\\1<prd>\",text)\n",
    "    text = re.sub(websites,\"<prd>\\\\1\",text)\n",
    "    if \"Ph.D\" in text: text = text.replace(\"Ph.D.\",\"Ph<prd>D<prd>\")\n",
    "    text = re.sub(\"\\s\" + alphabets + \"[.] \",\" \\\\1<prd> \",text)\n",
    "    text = re.sub(acronyms+\" \"+starters,\"\\\\1<stop> \\\\2\",text)\n",
    "    text = re.sub(alphabets + \"[.]\" + alphabets + \"[.]\" + alphabets + \"[.]\",\"\\\\1<prd>\\\\2<prd>\\\\3<prd>\",text)\n",
    "    text = re.sub(alphabets + \"[.]\" + alphabets + \"[.]\",\"\\\\1<prd>\\\\2<prd>\",text)\n",
    "    text = re.sub(\" \"+suffixes+\"[.] \"+starters,\" \\\\1<stop> \\\\2\",text)\n",
    "    text = re.sub(\" \"+suffixes+\"[.]\",\" \\\\1<prd>\",text)\n",
    "    text = re.sub(\" \" + alphabets + \"[.]\",\" \\\\1<prd>\",text)\n",
    "    if \"”\" in text: text = text.replace(\".”\",\"”.\")\n",
    "    if \"\\\"\" in text: text = text.replace(\".\\\"\",\"\\\".\")\n",
    "    if \"!\" in text: text = text.replace(\"!\\\"\",\"\\\"!\")\n",
    "    if \"?\" in text: text = text.replace(\"?\\\"\",\"\\\"?\")\n",
    "    text = text.replace(\".\",\".<stop>\")\n",
    "    text = text.replace(\"?\",\"?<stop>\")\n",
    "    text = text.replace(\"!\",\"!<stop>\")\n",
    "    text = text.replace(\"<prd>\",\".\")\n",
    "    sentences = text.split(\"<stop>\")\n",
    "    sentences = sentences[:-1]\n",
    "    sentences = [s.strip() for s in sentences]\n",
    "    return sentences"
   ]
  },
  {
   "cell_type": "markdown",
   "metadata": {},
   "source": [
    "# invoking the google entity extractor\n",
    "to use it you must set up a google cloud account and sign up for the language.googleapis.com service.  You will also need your google credential set  up correctly.  in writing the article and debugging this notebook,  i have spent $26.   so if you have a free google cloud account it won't cost much.\n",
    "\n"
   ]
  },
  {
   "cell_type": "code",
   "execution_count": 3,
   "metadata": {},
   "outputs": [],
   "source": [
    "\n",
    "language_client = language.LanguageServiceClient()\n",
    "\n",
    "def classify(text, verbose=True):\n",
    "    \"\"\"Classify the input text into categories. \"\"\"\n",
    "    document = language.types.Document(\n",
    "        content=text,\n",
    "        type=language.enums.Document.Type.PLAIN_TEXT)\n",
    "    response = language_client.analyze_entities(document)\n",
    "    return response\n",
    "\n",
    "import requests\n",
    "import wikipedia\n",
    "def findWikiData(itemurl):\n",
    "    st = itemurl.find('wiki/')\n",
    "    item = itemurl[st+5:]\n",
    "    #print(item)\n",
    "    s= \"https://en.wikipedia.org/w/api.php?action=query&prop=pageprops&titles=%s&format=json\"%(item)\n",
    "    r = requests.get(s)\n",
    "    rr =r.content.decode(\"utf-8\")\n",
    "    #print('rr=', rr)\n",
    "    ans = rr.find('wikibase_item')\n",
    "    answer = rr[ans+16:]\n",
    "    e = answer.find('\"')\n",
    "    return item, answer[:e]"
   ]
  },
  {
   "cell_type": "markdown",
   "metadata": {},
   "source": [
    "This function grabs the instanceOf data (P31) from wikidata.  it returns an empty string if it fails to find anything.  it is basically scraping the json to find the information.  not very elegant."
   ]
  },
  {
   "cell_type": "code",
   "execution_count": 4,
   "metadata": {},
   "outputs": [],
   "source": [
    "def getInstanceOfId(wikiID):\n",
    "    s = 'https://www.wikidata.org/w/api.php?action=wbgetentities&ids=%s&languages=en&format=json'%(wikiID)\n",
    "    r = requests.get(s)\n",
    "    rr =r.content.decode(\"utf-8\")\n",
    "    try:\n",
    "        j = json.loads(rr)\n",
    "        k = rr.find('P31')\n",
    "        if k > 0:\n",
    "            l = rr[k:].find('\"id\":')\n",
    "            if l > 0:\n",
    "                s = rr[k+l+5:k+l+23]\n",
    "                t = s.find('}')\n",
    "                id = s[1:t-1]\n",
    "                x = id.find('$')\n",
    "                if x < 0:\n",
    "                    return id\n",
    "                else:\n",
    "                    return id[:x]\n",
    "            else:\n",
    "                return ''\n",
    "        else:\n",
    "            return ''\n",
    "    except:\n",
    "        return ''\n",
    "    \n",
    "    "
   ]
  },
  {
   "cell_type": "code",
   "execution_count": 5,
   "metadata": {},
   "outputs": [
    {
     "data": {
      "text/plain": [
       "'Q55814'"
      ]
     },
     "execution_count": 5,
     "metadata": {},
     "output_type": "execute_result"
    }
   ],
   "source": [
    "getInstanceOfId('Q678023')"
   ]
  },
  {
   "cell_type": "markdown",
   "metadata": {},
   "source": [
    "This is another wikidata scrape to find the name of an object given it's wikidataID"
   ]
  },
  {
   "cell_type": "code",
   "execution_count": 6,
   "metadata": {},
   "outputs": [],
   "source": [
    "def getNameFromWikiID(wikiID):\n",
    "    s = 'https://www.wikidata.org/w/api.php?action=wbgetentities&ids=%s&languages=en&format=json'%(wikiID)\n",
    "    r = requests.get(s)\n",
    "    if r.status_code == 429:\n",
    "        time.sleep(8)\n",
    "        r = requests.get(s)\n",
    "    rr = r.content.decode(\"utf-8\")\n",
    "    s = rr.find('\"value\":')\n",
    "    rrr= rr[s+8:s+50]\n",
    "    t = rrr.find('}')\n",
    "    return rrr[1:t-1]"
   ]
  },
  {
   "cell_type": "code",
   "execution_count": 7,
   "metadata": {},
   "outputs": [
    {
     "data": {
      "text/plain": [
       "'extinction event'"
      ]
     },
     "execution_count": 7,
     "metadata": {},
     "output_type": "execute_result"
    }
   ],
   "source": [
    "getNameFromWikiID(\"Q55814\")"
   ]
  },
  {
   "cell_type": "code",
   "execution_count": 8,
   "metadata": {},
   "outputs": [],
   "source": [
    "def getDescription(wikiId):\n",
    "    s = 'https://www.wikidata.org/w/api.php?action=wbgetentities&ids=%s&languages=en&format=json'%(wikiId)\n",
    "    r = requests.get(s)\n",
    "    if r.status_code == 429:\n",
    "      time.sleep(8)\n",
    "      r = requests.get(s)\n",
    "\n",
    "    rr =r.content.decode(\"utf-8\")\n",
    "    i = rr.find(\"descriptions\")\n",
    "    if i < 0:\n",
    "        return ''\n",
    "    else:\n",
    "        rrr = rr[i:]\n",
    "        #print(rrr)\n",
    "        j = rrr.find('\"value\":')\n",
    "        if j >0:\n",
    "            #print(j)\n",
    "            k = rrr.find(\"}\")\n",
    "            return(rrr[j+8: k])\n",
    "        else:\n",
    "            return ''"
   ]
  },
  {
   "cell_type": "code",
   "execution_count": 49,
   "metadata": {},
   "outputs": [
    {
     "data": {
      "text/plain": [
       "'\"widespread and rapid decrease in the amount of life on earth\"'"
      ]
     },
     "execution_count": 49,
     "metadata": {},
     "output_type": "execute_result"
    }
   ],
   "source": [
    "getDescription(\"Q55814\")"
   ]
  },
  {
   "cell_type": "markdown",
   "metadata": {},
   "source": [
    "This function extracts entities from a sentence.   if it is a wikipedia entity  it pulls some wikidata."
   ]
  },
  {
   "cell_type": "code",
   "execution_count": 9,
   "metadata": {},
   "outputs": [],
   "source": [
    "def entityExtractorBlock(sents):\n",
    "    ents = []\n",
    "    x = classify(sents)\n",
    "    for ent in x.entities:\n",
    "        #print('--->', ent.name)\n",
    "        if ent.metadata['wikipedia_url'] != '' or len(str.split(ent.name))> 1:\n",
    "            wikipage = ent.metadata['wikipedia_url']\n",
    "            if wikipage != '':\n",
    "                name, wikidataId = findWikiData(wikipage)\n",
    "                ents.append((name, wikidataId, wikipage))\n",
    "\n",
    "            else:\n",
    "                wikidataId = \"none\"\n",
    "                #print(name, wikidataId, wikipage)\n",
    "                ents.append((ent.name, wikidataId, wikipage))\n",
    "        \n",
    "    return ents"
   ]
  },
  {
   "cell_type": "code",
   "execution_count": 10,
   "metadata": {},
   "outputs": [],
   "source": [
    "import networkx as nx"
   ]
  },
  {
   "cell_type": "markdown",
   "metadata": {},
   "source": [
    "The entity extractor creates a list that consists of a list of all of the entities and the last item in the list is the sentence.   "
   ]
  },
  {
   "cell_type": "code",
   "execution_count": 11,
   "metadata": {},
   "outputs": [],
   "source": [
    "def entityExtractor(sent):\n",
    "    ents = []\n",
    "    newents = entityExtractorBlock(sent)\n",
    "    if newents != []:\n",
    "        entitem = []\n",
    "        for x in newents:\n",
    "            entitem.append({'entity': x})\n",
    "        entitem.append({'context': sent})\n",
    "        ents = ents + entitem\n",
    "    #print(entitem)\n",
    "    return ents\n"
   ]
  },
  {
   "cell_type": "markdown",
   "metadata": {},
   "source": [
    "## add a new file to the graph.\n",
    "because the articles are named as ArtN to add a new article you need to know the number of articles currently in the graph.  that is art_cnt.\n",
    "\n",
    "for each sentence in the article it invokes the entity extractor.  with the list of entities it creates the entity nodes for each.   for those entities that are in wikipedia it create a list of \"instanceOf\" entities (lightgray in color).  it finally creates an article node.   When this is all done it adds the edges as needed. "
   ]
  },
  {
   "cell_type": "code",
   "execution_count": 12,
   "metadata": {},
   "outputs": [],
   "source": [
    "def addFile(art_cnt, G, filename):\n",
    "    items = open('../'+filename+'.txt', 'r').read().replace('\\n', '')\n",
    "    sents = split_into_sentences(items)\n",
    "    for sent in sents:\n",
    "        #print(sent)\n",
    "        ents = entityExtractor(sent)\n",
    "        all_nodes = []\n",
    "        nodes = []\n",
    "        instances = []\n",
    "        ent_list = []\n",
    "        for e in ents:\n",
    "            if e.get('entity') != None:\n",
    "                ent_list.append(e['entity'][0])\n",
    "                #this is an entity for this node\n",
    "                lab = e['entity'][2]\n",
    "                name = e['entity'][0]\n",
    "                wikiID = e['entity'][1]\n",
    "                st = lab.find('wiki/')\n",
    "                if st <0:\n",
    "                    item = name\n",
    "                    #print('Item=', item)\n",
    "                    G.add_node(item, flavor='entity', url='none', wikiID = 'noID', color = 'lightgreen')\n",
    "                    #print(\"just made \", G.node[item])\n",
    "                    G.nodes[item]['instanceof'] = []\n",
    "                    G.nodes[item]['subclassof'] = []\n",
    "                    G.nodes[item]['description'] = ''\n",
    "                    nodes.append(item)\n",
    "\n",
    "                else:\n",
    "                    item = lab[st+5:]\n",
    "                    #print(\"item=\", item)\n",
    "                    #wikiID = findWikiData(lab)[1]\n",
    "                    G.add_node(item, flavor='entity', url=lab, wikiID = wikiID, color = 'lightblue')\n",
    "                    #print(\"just smade \", item, G.nodes[item])\n",
    "                    instID = getInstanceOfId(wikiID)\n",
    "                    if instID != '':\n",
    "                        inst_list = [(instID, getNameFromWikiID(instID))]\n",
    "                        #print([wikiID, (instID, getNameFromWikiID(instID))])\n",
    "                    else:\n",
    "                        inst_list = []\n",
    "                    clas_list = []#isASubclassOf(wikiID)\n",
    "                    G.nodes[item]['instanceof'] = inst_list\n",
    "                    instances = instances + inst_list\n",
    "                    G.nodes[item]['subclassof'] = clas_list        \n",
    "                    #classes = classes + clas_list\n",
    "                    G.nodes[item]['description'] = getDescription(wikiID)\n",
    "                    #print(findWikiData(lab))\n",
    "                    nodes.append(item)\n",
    "            if e.get('context') != None:\n",
    "                # this is a new article\n",
    "                newart = 'Art'+str(art_cnt)\n",
    "                G.add_node(newart, flavor='article', source=filename, context=e['context'], color='lightyellow')\n",
    "                G.nodes[newart]['ent-list'] = ent_list\n",
    "                #print(newart,G.nodes[newart])\n",
    "                art_cnt = art_cnt+1\n",
    "                for z in nodes:\n",
    "                    G.add_edge(newart,z )\n",
    "                all_nodes = all_nodes + nodes\n",
    "                nodes = []\n",
    "        instance_set = set(instances)\n",
    "        instances = list(instance_set)\n",
    "        if instances != []:\n",
    "            print('instances ====', instances)\n",
    "        #now make items for these instances\n",
    "        for i in instances:\n",
    "            G.add_node(i[1], flavor='entity', url='notknown', wikiID = i[0], color = 'lightgray')\n",
    "            G.nodes[i[1]]['description'] = getDescription(i[0])\n",
    "            G.nodes[i[1]]['instanceof'] = []\n",
    "            G.nodes[i[1]]['subclassof'] = []\n",
    "        #now add edges from the instance to the new entity\n",
    "        all_nodes_set = set(all_nodes)\n",
    "        all_nodes =  list(all_nodes_set)\n",
    "        for n in all_nodes:\n",
    "            if G.nodes[n]['instanceof'] != []:\n",
    "                elist = G.nodes[n]['instanceof']\n",
    "                for e in elist:\n",
    "                    G.add_edge(n, e[1])\n",
    "    print(art_cnt)\n",
    "    return art_cnt"
   ]
  },
  {
   "cell_type": "markdown",
   "metadata": {},
   "source": [
    "## build the graph from the documents.\n",
    "We are skiping these steps because it is easier to load the graph from the stored graph.  saves lots of time.   If you have your own set of documents you can uncoment this run it."
   ]
  },
  {
   "cell_type": "raw",
   "metadata": {},
   "source": [
    "G = nx.Graph()\n",
    "art_cnt = 0\n",
    "art_cnt =addFile(art_cnt, G, 'relativity')"
   ]
  },
  {
   "cell_type": "raw",
   "metadata": {},
   "source": [
    "art_cnt = addFile(art_cnt, G, 'blackhole')\n",
    "nx.write_gpickle(G, 'phy_plus_geo_singlesent')"
   ]
  },
  {
   "cell_type": "raw",
   "metadata": {},
   "source": [
    "art_cnt = addFile(art_cnt, G, 'blackhole-neutron')"
   ]
  },
  {
   "cell_type": "raw",
   "metadata": {},
   "source": [
    "art_cnt = addFile(art_cnt, G, 'quantum-gravity')\n",
    "nx.write_gpickle(G, 'phy_plus_geo_singlesent')"
   ]
  },
  {
   "cell_type": "raw",
   "metadata": {},
   "source": [
    "art_cnt = addFile(art_cnt, G, 'quantum-grav3')"
   ]
  },
  {
   "cell_type": "raw",
   "metadata": {},
   "source": [
    "art_cnt = addFile(art_cnt, G, 'gravitational-wave')\n",
    "nx.write_gpickle(G, 'phy_plus_geo_singlesent')"
   ]
  },
  {
   "cell_type": "raw",
   "metadata": {},
   "source": [
    "art_cnt = addFile(art_cnt, G, 'string-theory')"
   ]
  },
  {
   "cell_type": "raw",
   "metadata": {},
   "source": [
    "art_cnt = addFile(art_cnt, G, 'cosmology')\n",
    "nx.write_gpickle(G, 'phy_plus_geo_singlesent')"
   ]
  },
  {
   "cell_type": "raw",
   "metadata": {},
   "source": [
    "art_cnt = addFile(art_cnt, G, 'climate')"
   ]
  },
  {
   "cell_type": "raw",
   "metadata": {},
   "source": [
    "art_cnt = addFile(art_cnt,G,\"climate-extinctions\" )\n",
    "nx.write_gpickle(G, 'phy_plus_geo_singlesent')"
   ]
  },
  {
   "cell_type": "raw",
   "metadata": {},
   "source": [
    "art_cnt = addFile(art_cnt,G,'late-devonian')"
   ]
  },
  {
   "cell_type": "raw",
   "metadata": {},
   "source": [
    "art_cnt = addFile(art_cnt,G,'extinction')\n",
    "nx.write_gpickle(G, 'phy_plus_geo_singlesent')"
   ]
  },
  {
   "cell_type": "raw",
   "metadata": {},
   "source": [
    "art_cnt = addFile(art_cnt,G, 'human-extinction')\n",
    "nx.write_gpickle(G, 'phy_plus_geo_singlesent')"
   ]
  },
  {
   "cell_type": "raw",
   "metadata": {},
   "source": [
    "art_cnt = addFile(art_cnt,G, 'climate-change')"
   ]
  },
  {
   "cell_type": "markdown",
   "metadata": {},
   "source": [
    "The next line reads the graph file from the saved copy.  "
   ]
  },
  {
   "cell_type": "code",
   "execution_count": 13,
   "metadata": {},
   "outputs": [],
   "source": [
    "#nx.write_gpickle(G, 'phy_plus_geo_singlesent')\n",
    "G = nx.read_gpickle('phy_plus_geo_singlesent')"
   ]
  },
  {
   "cell_type": "markdown",
   "metadata": {},
   "source": [
    "The following will plot the graph.  do not try to plot the entire graph.  too big! \n",
    "but we will use it for subgraphs."
   ]
  },
  {
   "cell_type": "code",
   "execution_count": 14,
   "metadata": {},
   "outputs": [],
   "source": [
    "import matplotlib.pyplot as plt\n",
    "%matplotlib inline\n",
    "def showGraph(sg):\n",
    "    options = {\n",
    "        'node_size': 3000,\n",
    "        'font_weight': 'bold',\n",
    "         'edgecolors':'black',\n",
    "        'width': 2,\n",
    "    }\n",
    "    labels = {}\n",
    "    color = []\n",
    "    for n in sg.nodes:\n",
    "        d =sg.nodes[n]\n",
    "        #print(d)\n",
    "        color.append(d['color'])\n",
    "        labels[n]=n\n",
    "    \n",
    "    #print(color)\n",
    "        #print(sg.nodes[x]['url'])\n",
    "        #labels[]\n",
    "        \n",
    "    plt.figure(3,figsize=(15,15)) \n",
    "\n",
    "    nx.draw(sg, labels = labels, node_color = color, **options)   "
   ]
  },
  {
   "cell_type": "raw",
   "metadata": {},
   "source": [
    "showGraph(G)"
   ]
  },
  {
   "cell_type": "markdown",
   "metadata": {},
   "source": [
    "utilities to inspect graph nodes."
   ]
  },
  {
   "cell_type": "code",
   "execution_count": 50,
   "metadata": {},
   "outputs": [],
   "source": [
    "def showArticle(graph, name):\n",
    "    print(name, graph.nodes[name]['context'])\n",
    "    print('all edges from this node are:')\n",
    "    for x in graph.edges():\n",
    "        if x[1] == name:\n",
    "            print(x, graph.nodes[x[0]]['url'], graph.nodes[x[0]]['wikiID'])\n",
    "            \n",
    "\n",
    "def showEntity(graph, name):\n",
    "    instances = []\n",
    "    classes = []\n",
    "    print(name,' wikiID=', graph.nodes[name]['wikiID'], 'wikipedia url =', graph.nodes[name]['url'])\n",
    "    print(graph.nodes[name]['description'])\n",
    "    inst = graph.nodes[name]['instanceof'] \n",
    "    if inst != []:\n",
    "        instances = instances +inst\n",
    "        ilist = [i[1] for i in inst]\n",
    "        print('is an instance of ', ilist)\n",
    "\n"
   ]
  },
  {
   "cell_type": "code",
   "execution_count": 43,
   "metadata": {},
   "outputs": [
    {
     "name": "stdout",
     "output_type": "stream",
     "text": [
      "Cretaceous  wikiID= Q44626 wikipedia url = https://en.wikipedia.org/wiki/Cretaceous\n",
      "\"third and last period of the Mesozoic Era\"\n",
      "is an instance of  ['geological period']\n"
     ]
    }
   ],
   "source": [
    "showEntity(G, 'Cretaceous')"
   ]
  },
  {
   "cell_type": "code",
   "execution_count": 44,
   "metadata": {},
   "outputs": [
    {
     "name": "stdout",
     "output_type": "stream",
     "text": [
      "geological period  wikiID= Q392928 wikipedia url = notknown\n",
      "\"subdivision of geological time; shorter than an era and longer than an epoch\"\n"
     ]
    }
   ],
   "source": [
    "showEntity(G, 'geological period')"
   ]
  },
  {
   "cell_type": "markdown",
   "metadata": {},
   "source": [
    "The scorekey function divides the world into 7 categories.   notice relativity is in all the physics categories ... because it is."
   ]
  },
  {
   "cell_type": "code",
   "execution_count": null,
   "metadata": {},
   "outputs": [],
   "source": [
    "climate = set(['climate', 'climate-change'])\n",
    "extinction =  set(['late-devonian', 'extinction', \"climate-extinctions\"])\n",
    "human_extinct = set(['human-extinction'])\n",
    "relativity = set(['relativity'])\n",
    "blackholes = set(['relativity','blackhole','blackhole-neutron', 'gravitational-wave'])\n",
    "qgrav = set(['relativity', 'quantum-gravity', 'quantum-grav3', 'string-theory'])\n",
    "cosmo = set(['relativity', 'cosmology'])\n",
    "\n",
    "def scorekey(key1, key2):\n",
    "    if key1 in climate and key2 in climate:\n",
    "        return 1\n",
    "    if key1 in extinction and key2 in extinction:\n",
    "        return 1\n",
    "    if key1 in human_extinct and key2 in human_extinct:\n",
    "        return 1\n",
    "    if key1 in relativity and key2 in relativity:\n",
    "        return 1\n",
    "    if key1 in blackholes and key2 in blackholes:\n",
    "        return 1\n",
    "    if key1 in qgrav and key2 in qgrav:\n",
    "        return 1\n",
    "    if key1 in cosmo and key2 in cosmo:\n",
    "        return 1\n",
    "    return 0"
   ]
  },
  {
   "cell_type": "markdown",
   "metadata": {},
   "source": [
    "Some book keeping"
   ]
  },
  {
   "cell_type": "code",
   "execution_count": 20,
   "metadata": {},
   "outputs": [
    {
     "name": "stdout",
     "output_type": "stream",
     "text": [
      "instances = 90\n",
      "---------------\n",
      "classes = 0\n",
      "lines = 427\n",
      "entities =  691\n"
     ]
    }
   ],
   "source": [
    "instances = []\n",
    "classes = []\n",
    "lines = []\n",
    "ent_cnt = 0\n",
    "for nd in G.nodes:\n",
    "    #print(G.nodes[nd])\n",
    "    node = G.nodes[nd]\n",
    "    if node['flavor'] == 'entity':\n",
    "        ent_cnt +=1\n",
    "        inst = node['instanceof']\n",
    "        instances = instances + inst\n",
    "        clas = node['subclassof']\n",
    "        classes = classes + clas\n",
    "    elif node['flavor'] == 'article':\n",
    "        #print('doing art ',nd, node)\n",
    "        lines.append([node['context'], nd])\n",
    "instanceSet = set(instances)\n",
    "instances = list(instanceSet)\n",
    "classSet = set(classes)\n",
    "classes = list(classSet)\n",
    "print('instances =', len(instances))\n",
    "print(\"---------------\")\n",
    "print('classes =', len(classes))\n",
    "print('lines =', len(lines))\n",
    "print('entities = ', ent_cnt)"
   ]
  },
  {
   "cell_type": "code",
   "execution_count": 22,
   "metadata": {},
   "outputs": [],
   "source": [
    "sentences = [lines[i][0] for i in range(len(lines))]"
   ]
  },
  {
   "cell_type": "code",
   "execution_count": 23,
   "metadata": {},
   "outputs": [],
   "source": [
    "keys = [lines[i][1] for i in range(len(lines))]"
   ]
  },
  {
   "cell_type": "markdown",
   "metadata": {},
   "source": [
    "## Create the BERT embedding\n",
    "and the matrix mar which stores the normalized imbedding vectors."
   ]
  },
  {
   "cell_type": "code",
   "execution_count": null,
   "metadata": {},
   "outputs": [],
   "source": [
    "from sentence_transformers import SentenceTransformer\n",
    "sbert_model = SentenceTransformer('bert-base-nli-mean-tokens')"
   ]
  },
  {
   "cell_type": "code",
   "execution_count": 25,
   "metadata": {},
   "outputs": [],
   "source": [
    "sentence_embeddings = sbert_model.encode(sentences)\n",
    "import numpy as np\n",
    "mar = np.zeros((len(sentences), 768))\n",
    "for i in range(len(sentences)):\n",
    "    x = np.linalg.norm(sentence_embeddings[i])\n",
    "    mar[i] = sentence_embeddings[i]/x"
   ]
  },
  {
   "cell_type": "code",
   "execution_count": 27,
   "metadata": {},
   "outputs": [],
   "source": [
    "def find_in_keys(nodeid):\n",
    "    for i in range(len(keys)):\n",
    "        if nodeid == keys[i]:\n",
    "            return i\n",
    "    return -1\n"
   ]
  },
  {
   "cell_type": "markdown",
   "metadata": {},
   "source": [
    "## The function find_best\n",
    "this function takes a sentence and look for the k closest matches based on proximity to the BERT model vectors stored in mar.   This uses dotproduct of normalized vectors which is the same as cosine distance."
   ]
  },
  {
   "cell_type": "code",
   "execution_count": 29,
   "metadata": {},
   "outputs": [],
   "source": [
    "def find_best(k, abstract, show=True):\n",
    "    v = sbert_model.encode([abstract])[0]\n",
    "    v0 = v/np.linalg.norm(v)\n",
    "    norms = []\n",
    "    for i in range(mar.shape[0]):\n",
    "        norms.append([np.dot(v0,mar[i]), i])\n",
    "    norms.sort(reverse=True)\n",
    "    if show:\n",
    "        print('top ',k, ' related nodes' )\n",
    "    scor = 0.0\n",
    "    #print(norms[0][1])\n",
    "    nodename = keys[norms[0][1]]\n",
    "    category =  G.nodes[nodename]['source']\n",
    "    for i in range(k):\n",
    "        node = keys[norms[i][1]]\n",
    "        if scorekey(G.nodes[node]['source'],category) == 1:\n",
    "            scor +=1.0\n",
    "        if show:\n",
    "            print(node)\n",
    "            print(sentences[norms[i][1]])\n",
    "    scor = scor/k\n",
    "    return scor, norms[0:k]"
   ]
  },
  {
   "cell_type": "markdown",
   "metadata": {},
   "source": [
    "## find_best3\n",
    "is the same as find_best but we remove candidates that are not in the same connected component.  note: k must be less than 40.   "
   ]
  },
  {
   "cell_type": "code",
   "execution_count": 61,
   "metadata": {},
   "outputs": [],
   "source": [
    "def find_best3(k, abstract, show=True):\n",
    "    v = sbert_model.encode([abstract])[0]\n",
    "    v0 = v/np.linalg.norm(v)\n",
    "    norms = []\n",
    "    for i in range(mar.shape[0]):\n",
    "        norms.append([np.dot(v0,mar[i]), i])\n",
    "    norms.sort(reverse=True)\n",
    "    nodename = keys[norms[0][1]]\n",
    "    newlist = []\n",
    "    nopath = 0\n",
    "    for i in range(40):\n",
    "        #print(norms[i])\n",
    "        x = norms[i][1]\n",
    "        try:\n",
    "            path = nx.shortest_path(G, nodename, 'Art'+str(x))\n",
    "            #print(path)\n",
    "            newlist.append(norms[i])\n",
    "        except:\n",
    "            nopath += 1\n",
    "    norms = newlist\n",
    "    ln = len(norms)\n",
    "    if show:\n",
    "        print('top ',k, ' related nodes' )\n",
    "        if ln < k:\n",
    "            print('but only found ', ln)\n",
    "    scor = 0.0\n",
    "    #print(norms[0][1])\n",
    "    nodename = keys[norms[0][1]]\n",
    "    category =  G.nodes[nodename]['source']\n",
    "    for i in range(min(ln, k)):\n",
    "        node = keys[norms[i][1]]\n",
    "        if scorekey(G.nodes[node]['source'],category) == 1:\n",
    "            scor +=1.0\n",
    "        if show:\n",
    "            print(node)\n",
    "            print(sentences[norms[i][1]])\n",
    "    scor = scor/min(ln, k)\n",
    "    return scor, min(ln, k)"
   ]
  },
  {
   "cell_type": "code",
   "execution_count": 62,
   "metadata": {},
   "outputs": [
    {
     "name": "stdout",
     "output_type": "stream",
     "text": [
      "top  5  related nodes\n",
      "Art0\n",
      "The Theory of General Relativity demonstrates that Black Holes are hidden by event horizons.\n",
      "Art61\n",
      "Finkelstein's solution extended the Schwarzschild solution for the future of observers falling into a black hole.\n",
      "Art76\n",
      "Such \"black neutron stars\" were not thought possible and will mean ideas for how neutron stars and black holes form will need to be rethought.\n",
      "Art34\n",
      "In many ways, a black hole acts like an ideal black body, as it reflects no light.\n",
      "Art108\n",
      "â€œSo, the particle would actually smear across space as it falls, which would violate the equivalence principle\".\n"
     ]
    },
    {
     "data": {
      "text/plain": [
       "(1.0, 5)"
      ]
     },
     "execution_count": 62,
     "metadata": {},
     "output_type": "execute_result"
    }
   ],
   "source": [
    "find_best3(5, 'Black Holes are hide behind Event horizons.')"
   ]
  },
  {
   "cell_type": "markdown",
   "metadata": {},
   "source": [
    "## find_best2\n",
    "the function find_best2 is more complicated.  \n",
    "\n",
    "The function findClue extracts entities from the sentence and then looks for the closest match in all of the articles among those that have the same entities.  if there are more than 2 with the max number of matches we just give up and return [].   \n",
    "\n",
    "To compute the convolutions we need to find all the neighbors of each node.  two nodes are neighbors if they share an entity node.   note that in the computation of findNeighbors we exclude two super nodes \"albert_einstein\" and \"earth\".   these node make too many nodes neighbors. \n",
    "\n",
    "ComputeMar2 is the function that computes the convolution matrix mar2.   \n",
    "\n",
    "Function find_best_wl2 is a version of find_best that uses a article nodeID rather than a document to rank near nodes (based on mar2)  it is a utility used in find_best2\n",
    "\n",
    "Function find_best2 looks for clues.  there are either 0, 1 or 2 clues.   if there are 0 clues we use find_best(1 ...) to give us a guess.    if there are 1 or 2 clues we use them in find_best_wl2 to complete the list.  (in the case of 2 clues we use the first clue to generate the first two replies and the second clue to get the rest.  \n",
    "\n"
   ]
  },
  {
   "cell_type": "code",
   "execution_count": 70,
   "metadata": {},
   "outputs": [],
   "source": [
    "def findClue(G, sent, show = True):\n",
    "    cls = entityExtractorBlock(sent)\n",
    "    clsent = [x[0] for x in cls]\n",
    "    if show:\n",
    "        print(clsent)\n",
    "    arts = []\n",
    "    for x in cls:\n",
    "        item = x[0]\n",
    "        for edg in G.edges():\n",
    "            #print(edg)\n",
    "            if edg[0] == item and G.nodes[edg[1]]['flavor'] == 'article':\n",
    "                arts.append(edg[1])\n",
    "    artset = set(arts)\n",
    "    artnames = list(artset)\n",
    "    factoredartnames = []\n",
    "    for art in artnames:\n",
    "        #context = G.nodes[art]['context']\n",
    "        #print('context=',context)\n",
    "        cls1ent = G.nodes[art]['ent-list']\n",
    "        #cls1ent = [x[0] for x in cls1]\n",
    "        cls1int = set(clsent).intersection(set(cls1ent))\n",
    "        if cls1int != set():\n",
    "            factoredartnames.append((art, len(cls1int)))\n",
    "        artnames = [x[0] for x in factoredartnames]\n",
    "    #if show:\n",
    "    #    print('artnames=',artnames)\n",
    "    dic = {}\n",
    "    for x in artnames:\n",
    "        dic[x] = 0\n",
    "    for x in factoredartnames:\n",
    "        dic[x[0]] = x[1]\n",
    "    #print('DIC =',dic)\n",
    "    bmax = 0\n",
    "    bestmax = ''\n",
    "    for x in artnames:\n",
    "        if dic[x] > bmax:\n",
    "            bmax = dic[x]\n",
    "            #print(x)\n",
    "            bestmax = x\n",
    "    count_ties = 0\n",
    "    tie_list = []\n",
    "    for x in artnames:\n",
    "        if dic[x] == bmax:\n",
    "            count_ties += 1\n",
    "            tie_list.append(x)\n",
    "    if show:\n",
    "        print(count_ties, 'nodes out of',len(artnames), 'matched the max value of ', bmax)\n",
    "    if count_ties >  0.5*len(artnames) and len(artnames)> 2:\n",
    "        return  []\n",
    "    return tie_list\n",
    "   \n",
    "\n",
    "def findNeighbors(g, art):\n",
    "    n = g.nodes[art]\n",
    "    #print(n)\n",
    "    features = []\n",
    "    neighbors = []\n",
    "    for x in g.edges:\n",
    "        if x[1] == art:\n",
    "            #print('found art in ',x)\n",
    "            p = x[0]\n",
    "            features.append(p)\n",
    "            if p != 'Albert_Einstein' and p != 'Earth':\n",
    "                for y in g.edges:\n",
    "                    if y[0] == p:\n",
    "                        if y[1] != art:\n",
    "                            #print(y[1][0:3])\n",
    "                            if y[1][0:3] != 'Art':\n",
    "                                features.append(y[1])\n",
    "                            else:\n",
    "                                neighbors.append(y[1])\n",
    "    return neighbors, features\n",
    "\n",
    "mar2 = np.zeros((len(sentences), 768))\n",
    "def computeMar2(G, mar, lambd):\n",
    "    num_zero_neighbors = 0\n",
    "    tot_neighbors = 0\n",
    "    num_arts = 0\n",
    "    for art in G.nodes():\n",
    "        if G.nodes[art]['flavor'] == 'article':\n",
    "            num_arts += 1.0\n",
    "            neighbors, features =  findNeighbors(G, art)\n",
    "            v = np.zeros((768))\n",
    "            c = 0.0\n",
    "            if len(neighbors) == 0:\n",
    "                num_zero_neighbors +=1\n",
    "            tot_neighbors += len(neighbors)\n",
    "            if len(neighbors) > 0:\n",
    "                for x in neighbors:\n",
    "                    loc = find_in_keys(x)\n",
    "                    v = v + mar[loc]\n",
    "                    c = c+1.0\n",
    "                v = v/c\n",
    "                z = lambd*mar[find_in_keys(art)] + (1.0-lambd)*v\n",
    "                z = z/np.linalg.norm(z)\n",
    "                mar2[find_in_keys(art)] = z\n",
    "            else:\n",
    "                mar2[find_in_keys(art)] = mar[find_in_keys(art)]\n",
    "\n",
    "    return num_zero_neighbors, tot_neighbors/num_arts\n",
    "\n",
    "\n",
    "def find_best2(k, abstract, show=True):\n",
    "    cls = findClue(G, abstract, show)\n",
    "    #print('clues are =', cls)\n",
    "    if cls != []:\n",
    "        best = cls[0]\n",
    "    else:\n",
    "        _, x = find_best(1, abstract, show=False)\n",
    "        best = keys[x[0][1]]\n",
    "    if(len(cls)> 1):\n",
    "        scora, normsa = find_best_wl2(2, cls[0], show)\n",
    "        scorb, normsb = find_best_wl2(k-2, cls[1], show)\n",
    "        scor = (2*scora+(k-2)*scorb)/k\n",
    "        norms = normsa+normsb\n",
    "    else:\n",
    "        scor, norms = find_best_wl2(k, best, show)\n",
    "    if show:\n",
    "        print('score =', scor)\n",
    "    return scor, norms\n",
    "\n",
    "\n",
    "def find_best_wl2(k, nodeid, show=True):\n",
    "    #print(nodeid)\n",
    "    v0 = mar2[find_in_keys(nodeid)]\n",
    "    norms = []\n",
    "    for i in range(mar2.shape[0]):\n",
    "        norms.append([np.dot(v0,mar2[i]), i])\n",
    "    norms.sort(reverse=True)\n",
    "    score = 0.0\n",
    "    #if show:\n",
    "    #    print('top ',k, ' related nodes' )\n",
    "    scor = 0.0\n",
    "    nodename = keys[norms[0][1]]\n",
    "    category =  G.nodes[nodename]['source']\n",
    "    for i in range(k):\n",
    "        node = keys[norms[i][1]]\n",
    "        sent = sentences[norms[i][1]]\n",
    "        #print('node = ', node)\n",
    "        nodea = node\n",
    "        if scorekey(G.nodes[nodea]['source'],category) == 1:\n",
    "            scor +=1.0\n",
    "        if show:\n",
    "            print(node)\n",
    "            print(sent)\n",
    "    scor = scor/k\n",
    "    return scor, norms[0:k]\n",
    "            \n",
    "def showRelated(G,art):\n",
    "    print( G.nodes[art]['context'])\n",
    "    neighbors, features =  findNeighbors(G, art)\n",
    "    n = set(neighbors)\n",
    "    neighbors = list(n)\n",
    "    print(neighbors)\n",
    "    for x in neighbors:\n",
    "        print( G.nodes[x]['context'])\n",
    "        v0 = mar[find_in_keys(art)]\n",
    "        v1 = mar[find_in_keys(x)]\n",
    "        print(\" dot prod =\", np.dot(v0,v1))\n",
    "    print(features)\n",
    "\n"
   ]
  },
  {
   "cell_type": "markdown",
   "metadata": {},
   "source": [
    "## Compute mar2\n",
    "the embedding vectors for the convolution of the BERT embedding"
   ]
  },
  {
   "cell_type": "code",
   "execution_count": 71,
   "metadata": {},
   "outputs": [
    {
     "data": {
      "text/plain": [
       "(140, 5.02576112412178)"
      ]
     },
     "execution_count": 71,
     "metadata": {},
     "output_type": "execute_result"
    }
   ],
   "source": [
    "computeMar2(G, mar, 0.8)"
   ]
  },
  {
   "cell_type": "markdown",
   "metadata": {},
   "source": [
    "find_best2_5 is the same as find_best2 but we eliminate all candidates that are not connected to the top choice.   This is like find_best3 above, and k must be less than 40."
   ]
  },
  {
   "cell_type": "code",
   "execution_count": 64,
   "metadata": {},
   "outputs": [],
   "source": [
    "def find_best2_5(k, text, show = True):\n",
    "    _, norms = find_best2(40, text, show = False)\n",
    "    nodename = keys[norms[0][1]]\n",
    "    newlist = []\n",
    "    nopath = 0\n",
    "    for i in range(40):\n",
    "        #print(norms[i])\n",
    "        x = norms[i][1]\n",
    "        try:\n",
    "            path = nx.shortest_path(G, nodename, 'Art'+str(x))\n",
    "            #print(path)\n",
    "            newlist.append(norms[i])\n",
    "        except:\n",
    "            nopath += 1\n",
    "    norms = newlist\n",
    "    ln = len(norms)\n",
    "\n",
    "    if show:\n",
    "        print('top ',k, ' related nodes' )\n",
    "    scor = 0.0\n",
    "    #print(norms[0][1])\n",
    "    nodename = keys[norms[0][1]]\n",
    "    category =  G.nodes[nodename]['source']\n",
    "    for i in range(min(k,ln)):\n",
    "        node = keys[norms[i][1]]\n",
    "        if scorekey(G.nodes[node]['source'],category) == 1:\n",
    "            scor +=1.0\n",
    "        if show:\n",
    "            print(node)\n",
    "            print(sentences[norms[i][1]])\n",
    "            \n",
    "    scor = scor/min(ln, k)\n",
    "    return scor, min(ln,k)"
   ]
  },
  {
   "cell_type": "markdown",
   "metadata": {},
   "source": [
    "## Examples"
   ]
  },
  {
   "cell_type": "code",
   "execution_count": 38,
   "metadata": {},
   "outputs": [
    {
     "name": "stdout",
     "output_type": "stream",
     "text": [
      "['Black_hole', 'Event horizon']\n",
      "6 nodes out of 6 matched the max value of  1\n",
      "Art0\n",
      "The Theory of General Relativity demonstrates that Black Holes are hidden by event horizons.\n",
      "Art9\n",
      "This solution laid the groundwork for the description of the final stages of gravitational collapse, and the objects known today as Black Holes.\n",
      "Art35\n",
      "Moreover, quantum field theory in curved spacetime predicts that event horizons emit Hawking radiation, with the same spectrum as a black body of a temperature inversely proportional to its mass.\n",
      "Art61\n",
      "Finkelstein's solution extended the Schwarzschild solution for the future of observers falling into a black hole.\n",
      "score = 1.0\n"
     ]
    },
    {
     "data": {
      "text/plain": [
       "(1.0,\n",
       " [[1.0, 0],\n",
       "  [0.8253896427602846, 9],\n",
       "  [0.8175291113883197, 35],\n",
       "  [0.813318770065547, 61]])"
      ]
     },
     "execution_count": 38,
     "metadata": {},
     "output_type": "execute_result"
    }
   ],
   "source": [
    "find_best2(4, 'Black Holes are hidden by an Event horizon.')"
   ]
  },
  {
   "cell_type": "code",
   "execution_count": 114,
   "metadata": {},
   "outputs": [
    {
     "name": "stdout",
     "output_type": "stream",
     "text": [
      "top  4  related nodes\n",
      "Art6\n",
      "The Einstein field equations are nonlinear and very difficult to solve.\n",
      "Art0\n",
      "The Theory of General Relativity demonstrates that Black Holes are hidden by event horizons.\n",
      "Art103\n",
      "But, given that the two theories are so different, it is not clear that the idea still holds at the quantum level.\n",
      "Art125\n",
      "If one attempts to treat gravity as simply another quantum field, the resulting theory is not renormalizable.\n"
     ]
    },
    {
     "data": {
      "text/plain": [
       "(1.0,\n",
       " [[0.6555333065408873, 6],\n",
       "  [0.6469091193111116, 0],\n",
       "  [0.629927947038547, 103],\n",
       "  [0.6216816364341731, 125]])"
      ]
     },
     "execution_count": 114,
     "metadata": {},
     "output_type": "execute_result"
    }
   ],
   "source": [
    "find_best(4, 'What is dark energy?')"
   ]
  },
  {
   "cell_type": "code",
   "execution_count": 77,
   "metadata": {},
   "outputs": [
    {
     "name": "stdout",
     "output_type": "stream",
     "text": [
      "['dark energy']\n",
      "2 nodes out of 2 matched the max value of  1\n",
      "Art210\n",
      "On 1 December 2014, at the Planck 2014 meeting in Ferrara, Italy, astronomers reported that the universe is 13 billion years old and is composed of 5% atomic matter, 26% dark matter and 68% dark energy.\n",
      "Art52\n",
      "As of December 2018, eleven gravitational wave events have been observed that originated from ten merging black holes (along with one binary neutron star merger).\n",
      "Art189\n",
      "Modern physical cosmology is dominated by the Big Bang theory, which attempts to bring together observational astronomy and particle physics; more specifically, a standard parameterization of the Big Bang with dark matter and dark energy, known as the Lambda-CDM model.\n",
      "Art186\n",
      "Cosmology is a branch of astronomy concerned with the studies of the origin and evolution of the universe, from the Big Bang to today and on into the future.\n",
      "score = 0.75\n"
     ]
    },
    {
     "data": {
      "text/plain": [
       "(0.75, [[1.0, 189], [0.9134191095796336, 186]])"
      ]
     },
     "execution_count": 77,
     "metadata": {},
     "output_type": "execute_result"
    }
   ],
   "source": [
    "find_best2(4, 'What is dark energy?')"
   ]
  },
  {
   "cell_type": "code",
   "execution_count": 115,
   "metadata": {},
   "outputs": [
    {
     "name": "stdout",
     "output_type": "stream",
     "text": [
      "top  4  related nodes\n",
      "Art131\n",
      "In what is called the second superstring revolution, it was conjectured that both string theory and a unification of general relativity and supersymmetry known as supergravity form part of a hypothesized eleven-dimensional model known as M-theory, which would constitute a uniquely defined and consistent theory of quantum gravity.\n",
      "Art128\n",
      "The central idea of string theory is to replace the classical concept of a point particle in quantum field theory, with a quantum theory of one-dimensional extended objects: string theory.\n",
      "Art105\n",
      "To this they added the principle of quantum superposition, which holds that particles can be smeared into more than one state at once.\n",
      "Art112\n",
      "Instead, Zych imagined kind of quantum conjoined twins, built from the quantum superposition of two different energy states - and therefore two superposed masses.\n"
     ]
    },
    {
     "data": {
      "text/plain": [
       "(1.0,\n",
       " [[0.8305973333011722, 131],\n",
       "  [0.826438082502694, 128],\n",
       "  [0.8065965972368991, 105],\n",
       "  [0.8039374384164013, 112]])"
      ]
     },
     "execution_count": 115,
     "metadata": {},
     "output_type": "execute_result"
    }
   ],
   "source": [
    "find_best(4, 'unification of general relativity and quantum theory is  supersymmetry known as supergravity')"
   ]
  },
  {
   "cell_type": "code",
   "execution_count": 116,
   "metadata": {},
   "outputs": [
    {
     "name": "stdout",
     "output_type": "stream",
     "text": [
      "['general relativity', 'quantum theory']\n",
      "13 nodes out of 13 matched the max value of  1\n",
      "Art131\n",
      "In what is called the second superstring revolution, it was conjectured that both string theory and a unification of general relativity and supersymmetry known as supergravity form part of a hypothesized eleven-dimensional model known as M-theory, which would constitute a uniquely defined and consistent theory of quantum gravity.\n",
      "Art119\n",
      "How can the theory of quantum mechanics be merged with the theory of general relativity  gravitational force and remain correct at microscopic length scales?\n",
      "Art128\n",
      "The central idea of string theory is to replace the classical concept of a point particle in quantum field theory, with a quantum theory of one-dimensional extended objects: string theory.\n",
      "Art120\n",
      "What verifiable predictions does any theory of quantum gravity make?\n",
      "score = 1.0\n"
     ]
    },
    {
     "data": {
      "text/plain": [
       "(1.0,\n",
       " [[1.0, 131],\n",
       "  [0.8823622585368085, 119],\n",
       "  [0.879557346861881, 128],\n",
       "  [0.8670221364630675, 120]])"
      ]
     },
     "execution_count": 116,
     "metadata": {},
     "output_type": "execute_result"
    }
   ],
   "source": [
    "find_best2(4, 'unification of general relativity and quantum theory is  supersymmetry known as supergravity')"
   ]
  },
  {
   "cell_type": "code",
   "execution_count": 117,
   "metadata": {},
   "outputs": [
    {
     "name": "stdout",
     "output_type": "stream",
     "text": [
      "top  4  related nodes\n",
      "Art128\n",
      "The central idea of string theory is to replace the classical concept of a point particle in quantum field theory, with a quantum theory of one-dimensional extended objects: string theory.\n",
      "Art131\n",
      "In what is called the second superstring revolution, it was conjectured that both string theory and a unification of general relativity and supersymmetry known as supergravity form part of a hypothesized eleven-dimensional model known as M-theory, which would constitute a uniquely defined and consistent theory of quantum gravity.\n",
      "Art120\n",
      "What verifiable predictions does any theory of quantum gravity make?\n",
      "Art119\n",
      "How can the theory of quantum mechanics be merged with the theory of general relativity  gravitational force and remain correct at microscopic length scales?\n"
     ]
    },
    {
     "data": {
      "text/plain": [
       "(1.0,\n",
       " [[0.8063261405810636, 128],\n",
       "  [0.7838317084143955, 131],\n",
       "  [0.7744984495336569, 120],\n",
       "  [0.7575365019589617, 119]])"
      ]
     },
     "execution_count": 117,
     "metadata": {},
     "output_type": "execute_result"
    }
   ],
   "source": [
    "find_best(4, 'What is M-theory and what does it have to do with string theory and supersymmetry theory')"
   ]
  },
  {
   "cell_type": "code",
   "execution_count": 118,
   "metadata": {},
   "outputs": [
    {
     "name": "stdout",
     "output_type": "stream",
     "text": [
      "['string theory', 'supersymmetry theory']\n",
      "12 nodes out of 12 matched the max value of  1\n",
      "Art128\n",
      "The central idea of string theory is to replace the classical concept of a point particle in quantum field theory, with a quantum theory of one-dimensional extended objects: string theory.\n",
      "Art131\n",
      "In what is called the second superstring revolution, it was conjectured that both string theory and a unification of general relativity and supersymmetry known as supergravity form part of a hypothesized eleven-dimensional model known as M-theory, which would constitute a uniquely defined and consistent theory of quantum gravity.\n",
      "Art107\n",
      "This prediction allowed the pair to propose tests that would tease out the quantum behaviour of gravitational acceleration.\n",
      "Art181\n",
      "One essential quality of string theory is known as supersymmetry, a mathematical property that requires every known particle species to have a partner particle species, called a superpartner.\n",
      "score = 1.0\n"
     ]
    },
    {
     "data": {
      "text/plain": [
       "(1.0,\n",
       " [[1.0, 128],\n",
       "  [0.879557346861881, 131],\n",
       "  [0.8511244426214744, 107],\n",
       "  [0.8446809448255247, 181]])"
      ]
     },
     "execution_count": 118,
     "metadata": {},
     "output_type": "execute_result"
    }
   ],
   "source": [
    "find_best2(4, 'What is M-theory and what does it have to do with string theory and supersymmetry theory')"
   ]
  },
  {
   "cell_type": "code",
   "execution_count": 119,
   "metadata": {},
   "outputs": [
    {
     "name": "stdout",
     "output_type": "stream",
     "text": [
      "top  4  related nodes\n",
      "Art133\n",
      "Gravitational waves have been detected from the collision and merging of two neutron stars.\n",
      "Art153\n",
      "The animation below illustrates how gravitational waves are emitted by two neutron stars as they orbit each other and then coalesce (credit: NASA/Goddard Space Flight Center).\n",
      "Art48\n",
      "If there are other stars orbiting a black hole, their orbits can be used to determine the black hole's mass and location.\n",
      "Art43\n",
      "By absorbing other stars and merging with other black holes, supermassive black holes of millions of solar masses  may form.\n"
     ]
    },
    {
     "data": {
      "text/plain": [
       "(1.0,\n",
       " [[0.8409578509713314, 133],\n",
       "  [0.8211693463514087, 153],\n",
       "  [0.810935473946456, 48],\n",
       "  [0.8048706083552655, 43]])"
      ]
     },
     "execution_count": 119,
     "metadata": {},
     "output_type": "execute_result"
    }
   ],
   "source": [
    "find_best(4, 'Can a neutron star and a black hole merge')"
   ]
  },
  {
   "cell_type": "code",
   "execution_count": 120,
   "metadata": {},
   "outputs": [
    {
     "name": "stdout",
     "output_type": "stream",
     "text": [
      "['neutron star', 'black hole merge']\n",
      "2 nodes out of 2 matched the max value of  1\n",
      "Art56\n",
      "They were partly correct: a white dwarf slightly more massive than the Chandrasekhar limit will collapse into a neutron star, which is itself stable.\n",
      "Art90\n",
      "Current theories suggest that the gravitational force would overcome the degeneracy pressure if the Neutron Star were much larger than two solar masses - and cause it to collapse into a Black Hole.\n",
      "Art89\n",
      "A neutron star also has powerful gravity pulling it together, but a force between the neutrons, caused by a Quantum Mechanical effect known as degeneracy pressure, pushes the particles apart, counteracting the gravitational force.\n",
      "Art152\n",
      "Other waves are predicted to be caused by the rotation of neutron stars that are not perfect spheres, and possibly even the remnants of gravitational radiation created by the Big Bang.\n",
      "score = 1.0\n"
     ]
    },
    {
     "data": {
      "text/plain": [
       "(1.0, [[1.0, 89], [0.884448889329471, 152]])"
      ]
     },
     "execution_count": 120,
     "metadata": {},
     "output_type": "execute_result"
    }
   ],
   "source": [
    "find_best2(4, 'Can a neutron star and a black hole merge')"
   ]
  },
  {
   "cell_type": "code",
   "execution_count": 121,
   "metadata": {},
   "outputs": [
    {
     "name": "stdout",
     "output_type": "stream",
     "text": [
      "top  4  related nodes\n",
      "Art36\n",
      "This temperature is on the order of billionths of a kelvin for black holes of stellar mass, making it essentially impossible to observe.\n",
      "Art87\n",
      "If it is a very large star, it collapses to form a black hole, an object with such strong gravitational force that not even light can escape its grasp.\n",
      "Art41\n",
      "Black holes of stellar mass are expected to form when very massive stars collapse at the end of their life cycle.\n",
      "Art0\n",
      "The Theory of General Relativity demonstrates that Black Holes are hidden by event horizons.\n"
     ]
    },
    {
     "data": {
      "text/plain": [
       "(1.0,\n",
       " [[0.6923039160483202, 36],\n",
       "  [0.6576848209918602, 87],\n",
       "  [0.6572677173226659, 41],\n",
       "  [0.6550144063023944, 0]])"
      ]
     },
     "execution_count": 121,
     "metadata": {},
     "output_type": "execute_result"
    }
   ],
   "source": [
    "find_best(4, 'How old is the universe and how much of the universe is dark matter and how much is dark energy')"
   ]
  },
  {
   "cell_type": "code",
   "execution_count": 122,
   "metadata": {},
   "outputs": [
    {
     "name": "stdout",
     "output_type": "stream",
     "text": [
      "['dark energy', 'dark matter']\n",
      "2 nodes out of 2 matched the max value of  2\n",
      "Art210\n",
      "On 1 December 2014, at the Planck 2014 meeting in Ferrara, Italy, astronomers reported that the universe is 13 billion years old and is composed of 5% atomic matter, 26% dark matter and 68% dark energy.\n",
      "Art52\n",
      "As of December 2018, eleven gravitational wave events have been observed that originated from ten merging black holes (along with one binary neutron star merger).\n",
      "Art189\n",
      "Modern physical cosmology is dominated by the Big Bang theory, which attempts to bring together observational astronomy and particle physics; more specifically, a standard parameterization of the Big Bang with dark matter and dark energy, known as the Lambda-CDM model.\n",
      "Art186\n",
      "Cosmology is a branch of astronomy concerned with the studies of the origin and evolution of the universe, from the Big Bang to today and on into the future.\n",
      "score = 0.75\n"
     ]
    },
    {
     "data": {
      "text/plain": [
       "(0.75, [[1.0, 189], [0.9134191095796336, 186]])"
      ]
     },
     "execution_count": 122,
     "metadata": {},
     "output_type": "execute_result"
    }
   ],
   "source": [
    "find_best2(4, 'How old is the universe and how much of the universe is dark matter and how much is dark energy')"
   ]
  },
  {
   "cell_type": "code",
   "execution_count": 123,
   "metadata": {},
   "outputs": [
    {
     "name": "stdout",
     "output_type": "stream",
     "text": [
      "top  4  related nodes\n",
      "Art6\n",
      "The Einstein field equations are nonlinear and very difficult to solve.\n",
      "Art0\n",
      "The Theory of General Relativity demonstrates that Black Holes are hidden by event horizons.\n",
      "Art103\n",
      "But, given that the two theories are so different, it is not clear that the idea still holds at the quantum level.\n",
      "Art125\n",
      "If one attempts to treat gravity as simply another quantum field, the resulting theory is not renormalizable.\n"
     ]
    },
    {
     "data": {
      "text/plain": [
       "(1.0,\n",
       " [[0.6555333065408873, 6],\n",
       "  [0.6469091193111116, 0],\n",
       "  [0.629927947038547, 103],\n",
       "  [0.6216816364341731, 125]])"
      ]
     },
     "execution_count": 123,
     "metadata": {},
     "output_type": "execute_result"
    }
   ],
   "source": [
    "find_best(4, 'what is dark energy?')"
   ]
  },
  {
   "cell_type": "code",
   "execution_count": 124,
   "metadata": {},
   "outputs": [
    {
     "name": "stdout",
     "output_type": "stream",
     "text": [
      "['dark energy']\n",
      "2 nodes out of 2 matched the max value of  1\n",
      "Art210\n",
      "On 1 December 2014, at the Planck 2014 meeting in Ferrara, Italy, astronomers reported that the universe is 13 billion years old and is composed of 5% atomic matter, 26% dark matter and 68% dark energy.\n",
      "Art52\n",
      "As of December 2018, eleven gravitational wave events have been observed that originated from ten merging black holes (along with one binary neutron star merger).\n",
      "Art189\n",
      "Modern physical cosmology is dominated by the Big Bang theory, which attempts to bring together observational astronomy and particle physics; more specifically, a standard parameterization of the Big Bang with dark matter and dark energy, known as the Lambda-CDM model.\n",
      "Art186\n",
      "Cosmology is a branch of astronomy concerned with the studies of the origin and evolution of the universe, from the Big Bang to today and on into the future.\n",
      "score = 0.75\n"
     ]
    },
    {
     "data": {
      "text/plain": [
       "(0.75, [[1.0, 189], [0.9134191095796336, 186]])"
      ]
     },
     "execution_count": 124,
     "metadata": {},
     "output_type": "execute_result"
    }
   ],
   "source": [
    "find_best2(4, 'what is dark energy?')"
   ]
  },
  {
   "cell_type": "code",
   "execution_count": 125,
   "metadata": {},
   "outputs": [
    {
     "name": "stdout",
     "output_type": "stream",
     "text": [
      "top  4  related nodes\n",
      "Art321\n",
      "Changes oceanic chemistry and circulation, End-Triassic extinction: Volcanic activity End-Cretaceous extinction: Asteroid impact Volcanic activity Climate change Changes in atmospheric and oceanic chemistry.\n",
      "Art406\n",
      "It is believed that the Cretaceous mass extinction was caused by meteorites that fell to the earth causing a dust cloud.\n",
      "Art271\n",
      "Detecting either of the long-lived radioisotopes Sm146 or Pu244 in one or more end-Devonian extinction strata would confirm a supernova origin, point to the core-collapse explosion of a massive star, and probe supernova nucleosynthesis.\n",
      "Art270\n",
      "We therefore propose that the end-Devonian extinctions were triggered by supernova explosions at 20â€‰pc, somewhat beyond the \"kill distance\" that would have precipitated a full mass extinction.\n"
     ]
    },
    {
     "data": {
      "text/plain": [
       "(0.75,\n",
       " [[0.8456810400096684, 321],\n",
       "  [0.8168135285733771, 406],\n",
       "  [0.8075490385509255, 271],\n",
       "  [0.7991286224259633, 270]])"
      ]
     },
     "execution_count": 125,
     "metadata": {},
     "output_type": "execute_result"
    }
   ],
   "source": [
    "find_best(4,'mass extinctions were caused by volcanic action and astroid impact.')"
   ]
  },
  {
   "cell_type": "code",
   "execution_count": 126,
   "metadata": {},
   "outputs": [
    {
     "name": "stdout",
     "output_type": "stream",
     "text": [
      "[]\n",
      "0 nodes out of 0 matched the max value of  0\n",
      "Art321\n",
      "Changes oceanic chemistry and circulation, End-Triassic extinction: Volcanic activity End-Cretaceous extinction: Asteroid impact Volcanic activity Climate change Changes in atmospheric and oceanic chemistry.\n",
      "Art320\n",
      "Here are some hypothesized causes for each of Earth's biggest mass extinctions End-Ordovician exinction Beginning of glacial cycles on Earth, and corresponding changes in sea level Changes in atmospheric and oceanic chemistry relating to the rise of the Appalachian mountains, End-Devonian extinction: Climate change, possibly linked to the diversification of land pla Decrease in oxygen levels in the deep ocean, End-Permian extinction: Volcanic activity Climate change Decrease in oxygen levels in the deep ocean Changes in atmospheric chemistry.\n",
      "Art343\n",
      "The most likely cause of the Cretaceous mass extinction was an extraterrestrial impact in the Yucatan of modern-day Mexico, a massive volcanic eruption in the Deccan Province of modern-day west-central India, or both in combination.\n",
      "Art406\n",
      "It is believed that the Cretaceous mass extinction was caused by meteorites that fell to the earth causing a dust cloud.\n",
      "score = 0.5\n"
     ]
    },
    {
     "data": {
      "text/plain": [
       "(0.5,\n",
       " [[1.0, 321],\n",
       "  [0.8632037399145038, 320],\n",
       "  [0.8432760493114796, 343],\n",
       "  [0.8347331615004198, 406]])"
      ]
     },
     "execution_count": 126,
     "metadata": {},
     "output_type": "execute_result"
    }
   ],
   "source": [
    "find_best2(4,'mass extinctions were caused by volcanic action and astroid impact.')"
   ]
  },
  {
   "cell_type": "code",
   "execution_count": 127,
   "metadata": {},
   "outputs": [
    {
     "name": "stdout",
     "output_type": "stream",
     "text": [
      "top  4  related nodes\n",
      "Art312\n",
      "Holocene extinction: Currently ongoing.\n",
      "Art346\n",
      "But whether this constitutes a sixth mass extinction depends on whether today's extinction rate is greater than the \"normal\" or \"background\" rate that occurs between mass extinctions.\n",
      "Art301\n",
      "The event formerly called the Cretaceous-Tertiary or K-T extinction or K-T boundary is now officially named the Cretaceous-Paleogene (or K-Pg)extinction event.\n",
      "Art356\n",
      "If this doesn't sound like much, it's important to remember extinction is always preceded by a loss in population abundance and shrinking distributions.\n"
     ]
    },
    {
     "data": {
      "text/plain": [
       "(0.5,\n",
       " [[0.7428157150250396, 312],\n",
       "  [0.7010667565881309, 346],\n",
       "  [0.6819275401046124, 301],\n",
       "  [0.6647226924526317, 356]])"
      ]
     },
     "execution_count": 127,
     "metadata": {},
     "output_type": "execute_result"
    }
   ],
   "source": [
    "find_best(4,'What are the names of the extinction events and what is the most recent.')"
   ]
  },
  {
   "cell_type": "code",
   "execution_count": 128,
   "metadata": {},
   "outputs": [
    {
     "name": "stdout",
     "output_type": "stream",
     "text": [
      "['extinction events']\n",
      "8 nodes out of 8 matched the max value of  1\n",
      "Art312\n",
      "Holocene extinction: Currently ongoing.\n",
      "Art401\n",
      "Previous mass extinctions have occurred towards the ends of the Ordovician, Devonian, Permian, Triassic and Cretaceous eras (Mader, 2008).\n",
      "Art290\n",
      "Late Devonian extinction: 375-360 million years ago near the Devonian-Carboniferous transition.\n",
      "Art273\n",
      "The Late Devonian biodiversity crisis is characterized by a protracted decline in speciation rate occurring over millions of years (1, 2), punctuated by an extinction pulse (Kellwasser event) followed 10 My later by a more moderate extinction (Hangenberg event) around the Devonian-Carboniferous boundary (DCB) 359 My ago.\n",
      "score = 0.75\n"
     ]
    },
    {
     "data": {
      "text/plain": [
       "(0.75,\n",
       " [[1.0000000016953736, 312],\n",
       "  [0.7285234974026414, 401],\n",
       "  [0.723620772975837, 290],\n",
       "  [0.7195094375306612, 273]])"
      ]
     },
     "execution_count": 128,
     "metadata": {},
     "output_type": "execute_result"
    }
   ],
   "source": [
    "find_best2(4,'What are the names of the extinction events and what is the most recent.')"
   ]
  },
  {
   "cell_type": "code",
   "execution_count": 88,
   "metadata": {},
   "outputs": [
    {
     "name": "stdout",
     "output_type": "stream",
     "text": [
      "top  4  related nodes\n",
      "Art344\n",
      "Is today's biodiversity crisis a sixth mass extinction?\n",
      "Art346\n",
      "But whether this constitutes a sixth mass extinction depends on whether today's extinction rate is greater than the \"normal\" or \"background\" rate that occurs between mass extinctions.\n",
      "Art327\n",
      "These so-called \"Big Five\" have become part of the scientific benchmark to determine whether human beings have today created the conditions for a sixth mass extinction.\n",
      "Art399\n",
      "Humans could be causing the sixth mass extinction of the world through the effect the human species has on the planet earth.\n"
     ]
    },
    {
     "data": {
      "text/plain": [
       "(0.75,\n",
       " [[0.8506147089492802, 344],\n",
       "  [0.7544613084023898, 346],\n",
       "  [0.6833850445784074, 327],\n",
       "  [0.6400261175267138, 399]])"
      ]
     },
     "execution_count": 88,
     "metadata": {},
     "output_type": "execute_result"
    }
   ],
   "source": [
    "find_best(4, 'is there a sixth mass extinction?')"
   ]
  },
  {
   "cell_type": "code",
   "execution_count": 89,
   "metadata": {},
   "outputs": [
    {
     "name": "stdout",
     "output_type": "stream",
     "text": [
      "[]\n",
      "0 nodes out of 0 matched the max value of  0\n",
      "Art344\n",
      "Is today's biodiversity crisis a sixth mass extinction?\n",
      "Art346\n",
      "But whether this constitutes a sixth mass extinction depends on whether today's extinction rate is greater than the \"normal\" or \"background\" rate that occurs between mass extinctions.\n",
      "Art267\n",
      "The Late Devonian was a protracted period of low speciation resulting in biodiversity decline, culminating in extinction events near the Devonian-Carboniferous boundary.\n",
      "Art273\n",
      "The Late Devonian biodiversity crisis is characterized by a protracted decline in speciation rate occurring over millions of years (1, 2), punctuated by an extinction pulse (Kellwasser event) followed 10 My later by a more moderate extinction (Hangenberg event) around the Devonian-Carboniferous boundary (DCB) 359 My ago.\n",
      "score = 0.5\n"
     ]
    },
    {
     "data": {
      "text/plain": [
       "(0.5,\n",
       " [[1.0, 344],\n",
       "  [0.8208220579875936, 346],\n",
       "  [0.7903183403151341, 267],\n",
       "  [0.7881440787217453, 273]])"
      ]
     },
     "execution_count": 89,
     "metadata": {},
     "output_type": "execute_result"
    }
   ],
   "source": [
    "find_best2(4, 'is there a sixth mass extinction?')"
   ]
  },
  {
   "cell_type": "code",
   "execution_count": 129,
   "metadata": {},
   "outputs": [
    {
     "name": "stdout",
     "output_type": "stream",
     "text": [
      "top  4  related nodes\n",
      "Art384\n",
      "This increase is the result of humans emitting more carbon dioxide into the atmosphere and hence more being absorbed into the oceans.\n",
      "Art373\n",
      "The planet's average surface temperature has risen about one and a half degrees Fahrenheit since the late 19th century, a change driven largely by increased carbon dioxide and other human-made emissions into the atmosphere.\n",
      "Art341\n",
      "This was possibly caused by some colossal geological activity in what is today the Atlantic Ocean that would have elevated atmospheric COâ‚‚ concentrations, increased global temperatures, and acidified oceans.\n",
      "Art268\n",
      "Recent evidence indicates that the final extinction event may have coincided with a dramatic drop in stratospheric ozone, possibly due to a global temperature rise.\n"
     ]
    },
    {
     "data": {
      "text/plain": [
       "(0.5,\n",
       " [[0.8291692522387395, 384],\n",
       "  [0.8106812284265765, 373],\n",
       "  [0.7836260768214642, 341],\n",
       "  [0.7675794046340572, 268]])"
      ]
     },
     "execution_count": 129,
     "metadata": {},
     "output_type": "execute_result"
    }
   ],
   "source": [
    "find_best(4,'The major cause of climate change is increased'+\n",
    "          ' carbon dioxide levels.')"
   ]
  },
  {
   "cell_type": "code",
   "execution_count": 130,
   "metadata": {},
   "outputs": [
    {
     "name": "stdout",
     "output_type": "stream",
     "text": [
      "['climate change', 'carbon dioxide levels']\n",
      "18 nodes out of 18 matched the max value of  1\n",
      "Art384\n",
      "This increase is the result of humans emitting more carbon dioxide into the atmosphere and hence more being absorbed into the oceans.\n",
      "Art373\n",
      "The planet's average surface temperature has risen about one and a half degrees Fahrenheit since the late 19th century, a change driven largely by increased carbon dioxide and other human-made emissions into the atmosphere.\n",
      "Art217\n",
      "Higher atmospheric CO2 concentrations have also led to changes in ocean chemistry.\n",
      "Art385\n",
      "The amount of carbon dioxide absorbed by the upper layer of the oceans is increasing by about 2 billion tons per year.\n",
      "score = 1.0\n"
     ]
    },
    {
     "data": {
      "text/plain": [
       "(1.0,\n",
       " [[1.0, 384],\n",
       "  [0.8388852588545894, 373],\n",
       "  [0.8147108242673186, 217],\n",
       "  [0.8042363405578268, 385]])"
      ]
     },
     "execution_count": 130,
     "metadata": {},
     "output_type": "execute_result"
    }
   ],
   "source": [
    "find_best2(4,'The major cause of climate change is increased'+\n",
    "          ' carbon dioxide levels.')"
   ]
  },
  {
   "cell_type": "code",
   "execution_count": 53,
   "metadata": {},
   "outputs": [
    {
     "name": "stdout",
     "output_type": "stream",
     "text": [
      "top  4  related nodes\n",
      "Art406\n",
      "It is believed that the Cretaceous mass extinction was caused by meteorites that fell to the earth causing a dust cloud.\n",
      "Art343\n",
      "The most likely cause of the Cretaceous mass extinction was an extraterrestrial impact in the Yucatan of modern-day Mexico, a massive volcanic eruption in the Deccan Province of modern-day west-central India, or both in combination.\n",
      "Art321\n",
      "Changes oceanic chemistry and circulation, End-Triassic extinction: Volcanic activity End-Cretaceous extinction: Asteroid impact Volcanic activity Climate change Changes in atmospheric and oceanic chemistry.\n",
      "Art280\n",
      "Astrophysical mechanisms for biosphere damage include bolide impacts, solar proton events, supernova (SN) explosions, gamma-ray bursts, and neutron star mergers (kilonovae).\n"
     ]
    },
    {
     "data": {
      "text/plain": [
       "(0.25,\n",
       " [[0.8000463459116425, 406],\n",
       "  [0.7898185506690991, 343],\n",
       "  [0.7860237885309311, 321],\n",
       "  [0.7793119564548765, 280]])"
      ]
     },
     "execution_count": 53,
     "metadata": {},
     "output_type": "execute_result"
    }
   ],
   "source": [
    "find_best(4, 'Which extinction events were caused by asteroid impacts?')"
   ]
  },
  {
   "cell_type": "code",
   "execution_count": 54,
   "metadata": {},
   "outputs": [
    {
     "name": "stdout",
     "output_type": "stream",
     "text": [
      "['extinction events']\n",
      "8 nodes out of 8 matched the max value of  1\n",
      "Art406\n",
      "It is believed that the Cretaceous mass extinction was caused by meteorites that fell to the earth causing a dust cloud.\n",
      "Art343\n",
      "The most likely cause of the Cretaceous mass extinction was an extraterrestrial impact in the Yucatan of modern-day Mexico, a massive volcanic eruption in the Deccan Province of modern-day west-central India, or both in combination.\n",
      "Art319\n",
      "And even in that case, it's difficult to disentangle how much of the end-Cretaceous extinction was caused by the asteroid and how much was caused by the steady ooze of lava that was blanketing most of India at around the same time.\n",
      "Art321\n",
      "Changes oceanic chemistry and circulation, End-Triassic extinction: Volcanic activity End-Cretaceous extinction: Asteroid impact Volcanic activity Climate change Changes in atmospheric and oceanic chemistry.\n",
      "score = 0.25\n"
     ]
    },
    {
     "data": {
      "text/plain": [
       "(0.25,\n",
       " [[1.0, 406],\n",
       "  [0.8807266475935995, 343],\n",
       "  [0.8408709305085864, 319],\n",
       "  [0.8347331615004198, 321]])"
      ]
     },
     "execution_count": 54,
     "metadata": {},
     "output_type": "execute_result"
    }
   ],
   "source": [
    "find_best2(4, 'Which extinction events were caused by asteroid impacts?')"
   ]
  },
  {
   "cell_type": "code",
   "execution_count": 55,
   "metadata": {},
   "outputs": [
    {
     "name": "stdout",
     "output_type": "stream",
     "text": [
      "top  4  related nodes\n",
      "Art56\n",
      "They were partly correct: a white dwarf slightly more massive than the Chandrasekhar limit will collapse into a neutron star, which is itself stable.\n",
      "Art282\n",
      "Supernovae (SNe) are prompt sources of ionizing photons: extreme UV, X-rays, and gamma rays.\n",
      "Art104\n",
      "This even applies to an atom moving from a low energy level to a more excited state.\n",
      "Art82\n",
      "That makes the lighter object more massive than the heaviest type of dead star, or Neutron Star, previously observed - of just over two solar masses.\n"
     ]
    },
    {
     "data": {
      "text/plain": [
       "(0.5,\n",
       " [[0.7483947363558726, 56],\n",
       "  [0.7167465740281469, 282],\n",
       "  [0.6940057676913205, 104],\n",
       "  [0.6818297774569124, 82]])"
      ]
     },
     "execution_count": 55,
     "metadata": {},
     "output_type": "execute_result"
    }
   ],
   "source": [
    "find_best(4, 'light neutron star')"
   ]
  },
  {
   "cell_type": "code",
   "execution_count": 56,
   "metadata": {},
   "outputs": [
    {
     "name": "stdout",
     "output_type": "stream",
     "text": [
      "['neutron star']\n",
      "2 nodes out of 2 matched the max value of  1\n",
      "Art56\n",
      "They were partly correct: a white dwarf slightly more massive than the Chandrasekhar limit will collapse into a neutron star, which is itself stable.\n",
      "Art90\n",
      "Current theories suggest that the gravitational force would overcome the degeneracy pressure if the Neutron Star were much larger than two solar masses - and cause it to collapse into a Black Hole.\n",
      "Art89\n",
      "A neutron star also has powerful gravity pulling it together, but a force between the neutrons, caused by a Quantum Mechanical effect known as degeneracy pressure, pushes the particles apart, counteracting the gravitational force.\n",
      "Art152\n",
      "Other waves are predicted to be caused by the rotation of neutron stars that are not perfect spheres, and possibly even the remnants of gravitational radiation created by the Big Bang.\n",
      "score = 1.0\n"
     ]
    },
    {
     "data": {
      "text/plain": [
       "(1.0,\n",
       " [[1.0, 56], [0.8788394299924116, 90], [1.0, 89], [0.884448889329471, 152]])"
      ]
     },
     "execution_count": 56,
     "metadata": {},
     "output_type": "execute_result"
    }
   ],
   "source": [
    "find_best2(4, 'light neutron star')"
   ]
  },
  {
   "cell_type": "code",
   "execution_count": 39,
   "metadata": {},
   "outputs": [
    {
     "name": "stdout",
     "output_type": "stream",
     "text": [
      "top  4  related nodes\n",
      "Art32\n",
      "The boundary of the region from which no escape is possible is called the event horizon.\n",
      "Art349\n",
      "Otherwise, it's difficult to compare Earth's situation today with the past.\n",
      "Art312\n",
      "Holocene extinction: Currently ongoing.\n",
      "Art15\n",
      "Examples are Whitehead's theory, Brans-Dicke theory, teleparallelism, f(R) gravity and Einstein-Cartan theory.\n"
     ]
    },
    {
     "data": {
      "text/plain": [
       "(0.5,\n",
       " [[0.7258077940068726, 32],\n",
       "  [0.5096311544027046, 349],\n",
       "  [0.5045911078039821, 312],\n",
       "  [0.46927469315143844, 15]])"
      ]
     },
     "execution_count": 39,
     "metadata": {},
     "output_type": "execute_result"
    }
   ],
   "source": [
    "find_best(4, 'event horizon?')"
   ]
  },
  {
   "cell_type": "code",
   "execution_count": 40,
   "metadata": {},
   "outputs": [
    {
     "name": "stdout",
     "output_type": "stream",
     "text": [
      "['event horizon']\n",
      "3 nodes out of 3 matched the max value of  1\n",
      "Art32\n",
      "The boundary of the region from which no escape is possible is called the event horizon.\n",
      "Art33\n",
      "Although the event horizon has an enormous effect on the fate and circumstances of an object crossing it, according to general relativity it has no locally detectable features.\n",
      "Art145\n",
      "They do not exist in the Newtonian theory of gravitation, in which physical interactions propagate at infinite speed.\n",
      "Art203\n",
      "Their distance established spiral nebulae well beyond the edge of the Milky Way.\n",
      "score = 0.75\n"
     ]
    },
    {
     "data": {
      "text/plain": [
       "(0.75,\n",
       " [[1.0, 32],\n",
       "  [0.7280271378966627, 33],\n",
       "  [0.6295779158861923, 145],\n",
       "  [0.6195739999278378, 203]])"
      ]
     },
     "execution_count": 40,
     "metadata": {},
     "output_type": "execute_result"
    }
   ],
   "source": [
    "find_best2(4, 'event horizon?')"
   ]
  },
  {
   "cell_type": "code",
   "execution_count": 41,
   "metadata": {},
   "outputs": [
    {
     "name": "stdout",
     "output_type": "stream",
     "text": [
      "top  4  related nodes\n",
      "Art16\n",
      "The core concept of general-relativistic model-building is that of a solution of Einstein's equations.\n",
      "Art7\n",
      "Einstein used approximation methods in working out initial predictions of the theory.\n",
      "Art120\n",
      "What verifiable predictions does any theory of quantum gravity make?\n",
      "Art146\n",
      "However, the detection of gravitational waves proves the last prediction of Einstein's general theory of relativity.\n"
     ]
    },
    {
     "data": {
      "text/plain": [
       "(1.0,\n",
       " [[0.8007446878499469, 16],\n",
       "  [0.7675274332474649, 7],\n",
       "  [0.7667524205956656, 120],\n",
       "  [0.7393254683873263, 146]])"
      ]
     },
     "execution_count": 41,
     "metadata": {},
     "output_type": "execute_result"
    }
   ],
   "source": [
    "find_best(4, \"who has solved Einstein's field equations?\")"
   ]
  },
  {
   "cell_type": "code",
   "execution_count": 42,
   "metadata": {},
   "outputs": [
    {
     "name": "stdout",
     "output_type": "stream",
     "text": [
      "['Albert_Einstein', 'field equations']\n",
      "1 nodes out of 29 matched the max value of  2\n",
      "Art23\n",
      "Given the difficulty of finding exact solutions, Einstein's field equations are also solved frequently bynumerical integration on a computer, or by considering small perturbations of exact solutions.\n",
      "Art14\n",
      "There are alternatives to general relativity built upon the same premises, which include additional rules and/or constraints, leading to different field equations.\n",
      "Art24\n",
      "In the field of numerical relativity, powerful computers are employed to simulate the geometry of spacetime and to solve Einstein's equations for interesting situations such as two colliding black hole.\n",
      "Art178\n",
      "The more exact equations also revealed ingredients in string theory besides stringsâ€”membranelike objects of various dimensions, collectively called branes.\n",
      "score = 1.0\n"
     ]
    },
    {
     "data": {
      "text/plain": [
       "(1.0,\n",
       " [[1.0, 23],\n",
       "  [0.8692505707942518, 14],\n",
       "  [0.8294072121395903, 24],\n",
       "  [0.7840627729309373, 178]])"
      ]
     },
     "execution_count": 42,
     "metadata": {},
     "output_type": "execute_result"
    }
   ],
   "source": [
    "find_best2(4, \"who has solved Einstein's field equations?\")"
   ]
  },
  {
   "cell_type": "markdown",
   "metadata": {},
   "source": [
    "## Measuring the \"accuracy\" of the find_best function\n",
    "below we make three measurements of the accuracy by doing \n",
    "find_best(x) for every article in the graph.  \n",
    "\n",
    "recall that the score is not a measure of accuracy, but a measure of how similar the 2nd, 3rd and 4th reply is to the 1st.   \n",
    "\n",
    "find_alone give a score of 70 percent accurate.\n",
    "find_alone2 is better at 75% \n",
    "\n",
    "testing the methods that eliminate answers that are not in the same graph connected component gives even better answers, but it measures the score based on the number it found which may be less than 4. So if it finds no other answers in the component then it gets a score of 1.  \n",
    "\n",
    "find_alone3 is a score of 80% and the average numer of items found is 3.24  \n",
    "find_alone2_5 is a score of 83% and the averege number of items found is 3.33\n",
    "\n"
   ]
  },
  {
   "cell_type": "code",
   "execution_count": 58,
   "metadata": {},
   "outputs": [],
   "source": [
    "artlist = []\n",
    "for n in G.nodes():\n",
    "    if G.nodes[n]['flavor'] == 'article':\n",
    "        artlist.append(n)"
   ]
  },
  {
   "cell_type": "code",
   "execution_count": 59,
   "metadata": {},
   "outputs": [
    {
     "name": "stdout",
     "output_type": "stream",
     "text": [
      "427\n",
      "0.6984777517564403\n"
     ]
    }
   ],
   "source": [
    "numarts = len(artlist)\n",
    "print(numarts)\n",
    "scor = 0\n",
    "for n in artlist:\n",
    "    doc = G.nodes[n]['context']\n",
    "    s, _ = find_best(4, doc, show=False)\n",
    "    scor += s\n",
    "print(scor/numarts)\n",
    "    "
   ]
  },
  {
   "cell_type": "code",
   "execution_count": 63,
   "metadata": {},
   "outputs": [
    {
     "name": "stdout",
     "output_type": "stream",
     "text": [
      "427\n",
      "0.801912568306011 3.2365339578454333\n"
     ]
    }
   ],
   "source": [
    "numarts = len(artlist)\n",
    "print(numarts)\n",
    "scor = 0\n",
    "num_retured = 0\n",
    "for n in artlist:\n",
    "    doc = G.nodes[n]['context']\n",
    "    #print(doc)\n",
    "    #s, _ = find_best(4, doc[0], show=False)\n",
    "    s,  x = find_best3(4, doc, show=False)\n",
    "    scor += s\n",
    "    num_retured += x\n",
    "print(scor/numarts, num_retured/numarts)\n",
    "    "
   ]
  },
  {
   "cell_type": "code",
   "execution_count": 60,
   "metadata": {},
   "outputs": [
    {
     "name": "stdout",
     "output_type": "stream",
     "text": [
      "427\n",
      "0.7459016393442623\n"
     ]
    }
   ],
   "source": [
    "numarts = len(artlist)\n",
    "print(numarts)\n",
    "scor = 0\n",
    "for n in artlist:\n",
    "    doc = G.nodes[n]['context']\n",
    "    s, _ = find_best2(4, doc, show=False)\n",
    "    scor += s\n",
    "print(scor/numarts)\n"
   ]
  },
  {
   "cell_type": "code",
   "execution_count": 72,
   "metadata": {},
   "outputs": [
    {
     "name": "stdout",
     "output_type": "stream",
     "text": [
      "427\n",
      "0.8253317720530836 3.339578454332553\n"
     ]
    }
   ],
   "source": [
    "numarts = len(artlist)\n",
    "print(numarts)\n",
    "scor = 0\n",
    "num_returned = 0\n",
    "for n in artlist:\n",
    "    doc = G.nodes[n]['context']\n",
    "    s, x = find_best2_5(4, doc, show=False)\n",
    "    scor += s\n",
    "    num_returned +=x\n",
    "print(scor/numarts, num_returned/numarts)\n"
   ]
  },
  {
   "cell_type": "markdown",
   "metadata": {},
   "source": [
    "## more layers of convolution\n",
    "computerMar3 applies another layer of convolution "
   ]
  },
  {
   "cell_type": "code",
   "execution_count": 57,
   "metadata": {},
   "outputs": [],
   "source": [
    "def computeMar3(G, mar, lambd):\n",
    "    num_zero_neighbors = 0\n",
    "    tot_neighbors = 0\n",
    "    num_arts = 0\n",
    "    for art in G.nodes():\n",
    "        if G.nodes[art]['flavor'] == 'article':\n",
    "            num_arts += 1.0\n",
    "            neighbors, features =  findNeighbors(G, art)\n",
    "            v = np.zeros((768))\n",
    "            c = 0.0\n",
    "            if len(neighbors) == 0:\n",
    "                num_zero_neighbors +=1\n",
    "            tot_neighbors += len(neighbors)\n",
    "            if len(neighbors) > 0:\n",
    "                for x in neighbors:\n",
    "                    loc = find_in_keys(x)\n",
    "                    v = v + mar[loc]\n",
    "                    c = c+1.0\n",
    "                v = v/c\n",
    "                z = lambd*mar[find_in_keys(art)] + (1.0-lambd)*v\n",
    "                z = z/np.linalg.norm(z)\n",
    "                mar3[find_in_keys(art)] = z\n",
    "            else:\n",
    "                mar3[find_in_keys(art)] = mar[find_in_keys(art)]\n",
    "\n",
    "    return num_zero_neighbors, tot_neighbors/num_arts\n"
   ]
  },
  {
   "cell_type": "code",
   "execution_count": 66,
   "metadata": {},
   "outputs": [
    {
     "name": "stdout",
     "output_type": "stream",
     "text": [
      "427\n",
      "0.7552693208430913\n"
     ]
    }
   ],
   "source": [
    "mar3 = np.zeros((len(sentences), 768))\n",
    "computeMar3(G, mar2,0.8)\n",
    "mar2 = mar3\n",
    "numarts = len(artlist)\n",
    "print(numarts)\n",
    "scor = 0\n",
    "for n in artlist:\n",
    "    s, _ = find_best2(4, n, show=False)\n",
    "    scor += s\n",
    "print(scor/numarts)\n"
   ]
  },
  {
   "cell_type": "code",
   "execution_count": 67,
   "metadata": {},
   "outputs": [
    {
     "name": "stdout",
     "output_type": "stream",
     "text": [
      "427\n",
      "0.7634660421545667\n"
     ]
    }
   ],
   "source": [
    "mar3 = np.zeros((len(sentences), 768))\n",
    "computeMar3(G, mar2,0.8)\n",
    "mar2 = mar3\n",
    "numarts = len(artlist)\n",
    "print(numarts)\n",
    "scor = 0\n",
    "for n in artlist:\n",
    "    s, _ = find_best_wl2(4, n, show=False)\n",
    "    scor += s\n",
    "print(scor/numarts)\n"
   ]
  },
  {
   "cell_type": "code",
   "execution_count": 68,
   "metadata": {},
   "outputs": [
    {
     "name": "stdout",
     "output_type": "stream",
     "text": [
      "427\n",
      "0.7599531615925058\n"
     ]
    }
   ],
   "source": [
    "mar3 = np.zeros((len(sentences), 768))\n",
    "computeMar3(G, mar2,0.8)\n",
    "mar2 = mar3\n",
    "numarts = len(artlist)\n",
    "print(numarts)\n",
    "scor = 0\n",
    "for n in artlist:\n",
    "    s, _ = find_best_wl2(4, n, show=False)\n",
    "    scor += s\n",
    "print(scor/numarts)\n"
   ]
  },
  {
   "cell_type": "markdown",
   "metadata": {},
   "source": [
    "### Plotting the subgraph of nodes associated with a query.\n",
    "this is interesting to see.   it is also interesting to look at the \"story\" that \n",
    "is described by following a path through the subgraph."
   ]
  },
  {
   "cell_type": "code",
   "execution_count": 43,
   "metadata": {},
   "outputs": [],
   "source": [
    "\n",
    "def remove_trailing_and(text):\n",
    "    i = text.find('and')\n",
    "    if i >0:\n",
    "        i = text.rindex('and')\n",
    "        if len(text)-i < 7:\n",
    "            return text[0:i]\n",
    "        else:\n",
    "            return text\n",
    "    else:\n",
    "        return text\n",
    "    \n",
    "def explain(sg, entity):\n",
    "    n = sg.nodes[entity]\n",
    "    inst = n['instanceof']\n",
    "    instancefound = False\n",
    "    sent =  entity \n",
    "    #print('=======================================')\n",
    "    if n['description'] != '':\n",
    "        preline = entity+'is defined as ', n['description']\n",
    "    else: \n",
    "        preline = ''\n",
    "    if inst != []:\n",
    "        instancefound = True\n",
    "        sent = sent +' is a '\n",
    "        cnt = 0\n",
    "        for ins in inst:\n",
    "            endline = ''\n",
    "            if cnt < len(inst)-1:\n",
    "                endline = ' and '\n",
    "                cnt = cnt+1\n",
    "            if (ins[1].find('organism') < 0) and (ins[1].find('first-order') < 0) :\n",
    "                sent = sent+ ins[1]+ endline\n",
    "            else:\n",
    "                cnt = cnt-1\n",
    "    sent =  remove_trailing_and(sent)      \n",
    "    inst = n['subclassof']\n",
    "    if inst != []:\n",
    "        if instancefound == True:\n",
    "            sent = sent + ' and '\n",
    "        else:\n",
    "            sent = sent # + ' is '\n",
    "        #sent = sent + ' a subclass of '\n",
    "        #for ins in inst:\n",
    "        #    sent = sent+ ins[1]+' and '\n",
    "   \n",
    "    print(preline, remove_trailing_and(sent))"
   ]
  },
  {
   "cell_type": "code",
   "execution_count": 90,
   "metadata": {},
   "outputs": [],
   "source": [
    "def makeArtSubGraph(G, artlist, do_closure = True):\n",
    "    oe = G.edges\n",
    "    sgl = artlist\n",
    "    # compute links from articles to entities\n",
    "    sgl2 = []\n",
    "    for x in oe:\n",
    "        if x[0] in set(sgl):\n",
    "            sgl2.append(x[1])\n",
    "    sgl = sgl + sgl2\n",
    "    sgl = set(sgl)\n",
    "    sgl = list(sgl)\n",
    "    #add links from entities and articles to other things\n",
    "    sgl2 = []\n",
    "    for x in oe:\n",
    "        if x[1] in set(sgl):\n",
    "            sgl2.append(x[0])\n",
    "    sgl = sgl + sgl2\n",
    "    sgl = set(sgl)\n",
    "    sgl = list(sgl)\n",
    "    \n",
    "    if do_closure:\n",
    "        sgl2 = []\n",
    "        for x in oe:\n",
    "            if x[0] in set(sgl):\n",
    "                sgl2.append(x[1])\n",
    "        sgl = sgl + sgl2\n",
    "        sgl = set(sgl)\n",
    "        sgl = list(sgl)\n",
    "\n",
    "    sglab = {}\n",
    "    for x in sgl:\n",
    "        sglab[x] = x\n",
    "    sg = nx.subgraph(G, sgl)\n",
    "    return sglab, sg"
   ]
  },
  {
   "cell_type": "code",
   "execution_count": 93,
   "metadata": {},
   "outputs": [],
   "source": [
    "def buildMatchingGraph(G, text , do_closure = True):\n",
    "    _, s = find_best2(5, text, show=False)\n",
    "    print('s=',s)\n",
    "    artlist = [keys[it[1]] for it in s]\n",
    "    print(len(artlist))\n",
    "    for state in artlist:\n",
    "        print(state+'--', G.nodes[state]['context'])\n",
    "    _, sg = makeArtSubGraph(G, artlist, do_closure)\n",
    "    showGraph(sg)\n",
    "    print(\"related entities are:\")\n",
    "    print('=====================================')\n",
    "    for nd in sg:\n",
    "        n = sg.nodes[nd]\n",
    "        if n['flavor']== 'entity':\n",
    "            explain(sg, nd)\n",
    "            print(\" \")\n",
    "    return sg"
   ]
  },
  {
   "cell_type": "code",
   "execution_count": 94,
   "metadata": {},
   "outputs": [],
   "source": [
    "def explainPath(cop, X, Y):\n",
    "    path = nx.shortest_path(cop, X, Y)\n",
    "    print(path)\n",
    "    for a in path:\n",
    "        print(\"----------------\")\n",
    "        if cop.nodes[a]['flavor'] == \"entity\":\n",
    "            print(a, cop.nodes[a]['description'])\n",
    "        if cop.nodes[a]['flavor'] == 'article':\n",
    "            print(a, cop.nodes[a]['context'])\n"
   ]
  },
  {
   "cell_type": "code",
   "execution_count": 114,
   "metadata": {},
   "outputs": [
    {
     "name": "stdout",
     "output_type": "stream",
     "text": [
      "s= [[1.0000001427504632, 317], [0.8348142235220622, 343], [0.830255815031488, 406], [0.8269409763590552, 270], [0.8216758294932732, 319]]\n",
      "5\n",
      "Art317-- Although the best-known cause of a mass extinction is the asteroid impact that killed off the non-avian Dinosaurs, in fact, Volcanic Activity seems to have wreaked much more havoc on Earth's biota.\n",
      "Art343-- The most likely cause of the Cretaceous mass extinction was an extraterrestrial impact in the Yucatan of modern-day Mexico, a massive volcanic eruption in the Deccan Province of modern-day west-central India, or both in combination.\n",
      "Art406-- It is believed that the Cretaceous mass extinction was caused by meteorites that fell to the earth causing a dust cloud.\n",
      "Art270-- We therefore propose that the end-Devonian extinctions were triggered by supernova explosions at 20â€‰pc, somewhat beyond the \"kill distance\" that would have precipitated a full mass extinction.\n",
      "Art319-- And even in that case, it's difficult to disentangle how much of the end-Cretaceous extinction was caused by the asteroid and how much was caused by the steady ooze of lava that was blanketing most of India at around the same time.\n",
      "related entities are:\n",
      "=====================================\n",
      " Deccan Province\n",
      " \n",
      "('Cretaceousis defined as ', '\"third and last period of the Mesozoic Era\"') Cretaceous is a geological period\n",
      " \n",
      "('Indiais defined as ', '\"sovereign state in South Asia\"') India\n",
      " \n",
      " supernova explosions\n",
      " \n",
      " mass extinction\n",
      " \n",
      " kill distance\n",
      " \n",
      " Volcanic Activity\n",
      " \n",
      "('geological periodis defined as ', '\"subdivision of geological time; shorter than an era and longer than an epoch\"') geological period\n",
      " \n",
      " dust cloud\n",
      " \n",
      "('Mexicois defined as ', '\"sovereign state in the southern portion of North America\"') Mexico\n",
      " \n",
      "('inner planetis defined as ', '\"Solar System planet orbiting the Sun within the orbits of the Main-belt asteroids; within the Solar System, the terrestrial planets are the inner planets closest to the Sun, i.e. Mercury, Venus, Earth, and Mars\"') inner planet\n",
      " \n",
      "('Devonianis defined as ', '\"fourth period of the Paleozoic Era\"') Devonian is a geological period\n",
      " \n",
      "('Earthis defined as ', '\"third planet from the Sun in the Solar System\"') Earth is a inner planet\n",
      " \n",
      "('Yucatán_Peninsulais defined as ', '\"peninsula in North America\"') Yucatán_Peninsula is a peninsula\n",
      " \n"
     ]
    },
    {
     "data": {
      "image/png": "[encoded data removed]",
      "text/plain": [
       "<Figure size 1080x1080 with 1 Axes>"
      ]
     },
     "metadata": {},
     "output_type": "display_data"
    }
   ],
   "source": [
    "sg = buildMatchingGraph(G,'best-known cause of a mass extinction is an Asteroid '+\n",
    "                        'impact that killed off the Dinosaurs.')"
   ]
  },
  {
   "cell_type": "code",
   "execution_count": 109,
   "metadata": {},
   "outputs": [
    {
     "name": "stdout",
     "output_type": "stream",
     "text": [
      "['supernova explosions', 'Art270', 'mass extinction', 'Art406', 'dust cloud', 'Art407']\n",
      "----------------\n",
      "supernova explosions \n",
      "----------------\n",
      "Art270 We therefore propose that the end-Devonian extinctions were triggered by supernova explosions at 20â€‰pc, somewhat beyond the \"kill distance\" that would have precipitated a full mass extinction.\n",
      "----------------\n",
      "mass extinction \n",
      "----------------\n",
      "Art406 It is believed that the Cretaceous mass extinction was caused by meteorites that fell to the earth causing a dust cloud.\n",
      "----------------\n",
      "dust cloud \n",
      "----------------\n",
      "Art407 This dust cloud then blocked out the sun, causing atmospheric temperatures to drop and the majority of life on earth to cease.\n"
     ]
    }
   ],
   "source": [
    "explainPath(sg,  'supernova explosions', 'Art407')"
   ]
  },
  {
   "cell_type": "code",
   "execution_count": 115,
   "metadata": {},
   "outputs": [
    {
     "name": "stdout",
     "output_type": "stream",
     "text": [
      "['Art273', 'Devonian', 'Art270', 'mass extinction', 'Art343', 'Yucatán_Peninsula']\n",
      "----------------\n",
      "Art273 The Late Devonian biodiversity crisis is characterized by a protracted decline in speciation rate occurring over millions of years (1, 2), punctuated by an extinction pulse (Kellwasser event) followed 10 My later by a more moderate extinction (Hangenberg event) around the Devonian-Carboniferous boundary (DCB) 359 My ago.\n",
      "----------------\n",
      "Devonian \"fourth period of the Paleozoic Era\"\n",
      "----------------\n",
      "Art270 We therefore propose that the end-Devonian extinctions were triggered by supernova explosions at 20â€‰pc, somewhat beyond the \"kill distance\" that would have precipitated a full mass extinction.\n",
      "----------------\n",
      "mass extinction \n",
      "----------------\n",
      "Art343 The most likely cause of the Cretaceous mass extinction was an extraterrestrial impact in the Yucatan of modern-day Mexico, a massive volcanic eruption in the Deccan Province of modern-day west-central India, or both in combination.\n",
      "----------------\n",
      "Yucatán_Peninsula \"peninsula in North America\"\n"
     ]
    }
   ],
   "source": [
    "explainPath(sg,  'Art273', 'Yucatán_Peninsula')"
   ]
  },
  {
   "cell_type": "code",
   "execution_count": null,
   "metadata": {},
   "outputs": [],
   "source": []
  },
  {
   "cell_type": "code",
   "execution_count": 104,
   "metadata": {},
   "outputs": [
    {
     "name": "stdout",
     "output_type": "stream",
     "text": [
      "s= [[1.0, 189], [0.9134191095796336, 186], [1.0, 210], [0.7950824307145912, 52], [0.7898665348435598, 189]]\n",
      "5\n",
      "Art189-- Modern physical cosmology is dominated by the Big Bang theory, which attempts to bring together observational astronomy and particle physics; more specifically, a standard parameterization of the Big Bang with dark matter and dark energy, known as the Lambda-CDM model.\n",
      "Art186-- Cosmology is a branch of astronomy concerned with the studies of the origin and evolution of the universe, from the Big Bang to today and on into the future.\n",
      "Art210-- On 1 December 2014, at the Planck 2014 meeting in Ferrara, Italy, astronomers reported that the universe is 13 billion years old and is composed of 5% atomic matter, 26% dark matter and 68% dark energy.\n",
      "Art52-- As of December 2018, eleven gravitational wave events have been observed that originated from ten merging black holes (along with one binary neutron star merger).\n",
      "Art189-- Modern physical cosmology is dominated by the Big Bang theory, which attempts to bring together observational astronomy and particle physics; more specifically, a standard parameterization of the Big Bang with dark matter and dark energy, known as the Lambda-CDM model.\n",
      "related entities are:\n",
      "=====================================\n",
      " Big Bang theory\n",
      " \n",
      " Big Bang\n",
      " \n",
      " particle physics\n",
      " \n",
      " December 2018\n",
      " \n",
      "('Ferrarais defined as ', '\"Italian comune\"') Ferrara is a comune of Italy\n",
      " \n",
      " gravitational wave events\n",
      " \n",
      "('Italyis defined as ', '\"sovereign state in southern Europe\"') Italy\n",
      " \n",
      " neutron star merger\n",
      " \n",
      " black holes\n",
      " \n",
      " 13 billion\n",
      " \n",
      " Planck 2014\n",
      " \n",
      " dark energy\n",
      " \n",
      " 1 December 2014\n",
      " \n",
      " dark matter\n",
      " \n"
     ]
    },
    {
     "data": {
      "image/png": "[encoded data removed]",
      "text/plain": [
       "<Figure size 1080x1080 with 1 Axes>"
      ]
     },
     "metadata": {},
     "output_type": "display_data"
    }
   ],
   "source": [
    "sg =buildMatchingGraph(G,\"What is dark energy?\", do_closure=False)"
   ]
  },
  {
   "cell_type": "markdown",
   "metadata": {},
   "source": [
    "let's compute the average number of neighbors a node has."
   ]
  },
  {
   "cell_type": "code",
   "execution_count": 77,
   "metadata": {},
   "outputs": [
    {
     "name": "stdout",
     "output_type": "stream",
     "text": [
      "427\n",
      "[140.  57.  37.  26. 167.]\n"
     ]
    }
   ],
   "source": [
    "numarts = len(artlist)\n",
    "print(numarts)\n",
    "scor = 0\n",
    "neighbors = np.zeros(5)\n",
    "for n in artlist:\n",
    "    nbrs, _ = findNeighbors(G, n)\n",
    "    l = len(nbrs)\n",
    "    if l > 4:\n",
    "        l = 4\n",
    "    neighbors[l]+=1\n",
    "print(neighbors)\n"
   ]
  },
  {
   "cell_type": "code",
   "execution_count": 75,
   "metadata": {},
   "outputs": [
    {
     "data": {
      "text/plain": [
       "2.053864168618267"
      ]
     },
     "execution_count": 75,
     "metadata": {},
     "output_type": "execute_result"
    }
   ],
   "source": [
    "tot = 0\n",
    "for i in range(5):\n",
    "    tot += neighbors[i]*i\n",
    "tot/numarts"
   ]
  },
  {
   "cell_type": "markdown",
   "metadata": {},
   "source": [
    "compute neighbors of neighbors"
   ]
  },
  {
   "cell_type": "code",
   "execution_count": 78,
   "metadata": {},
   "outputs": [
    {
     "name": "stdout",
     "output_type": "stream",
     "text": [
      "427\n",
      "[140.  32.  12.   8. 235.]\n"
     ]
    }
   ],
   "source": [
    "numarts = len(artlist)\n",
    "print(numarts)\n",
    "scor = 0\n",
    "neighbors = np.zeros(5)\n",
    "for n in artlist:\n",
    "    nbrs, _ = findNeighbors(G, n)\n",
    "    dubnbrs = []\n",
    "    for x in nbrs:\n",
    "        if x != n:\n",
    "            dub, _ = findNeighbors(G, x)\n",
    "            dubnbrs = dubnbrs + dub\n",
    "    sdubnbrs = set(dubnbrs)\n",
    "    nbrs = list(sdubnbrs)\n",
    "    l = len(nbrs)\n",
    "    if l > 4:\n",
    "        l = 4\n",
    "    neighbors[l]+=1\n",
    "print(neighbors)\n"
   ]
  },
  {
   "cell_type": "code",
   "execution_count": 79,
   "metadata": {},
   "outputs": [
    {
     "data": {
      "text/plain": [
       "2.388758782201405"
      ]
     },
     "execution_count": 79,
     "metadata": {},
     "output_type": "execute_result"
    }
   ],
   "source": [
    "tot = 0\n",
    "for i in range(5):\n",
    "    tot += neighbors[i]*i\n",
    "tot/numarts"
   ]
  },
  {
   "cell_type": "code",
   "execution_count": 80,
   "metadata": {},
   "outputs": [
    {
     "data": {
      "text/plain": [
       "0.32786885245901637"
      ]
     },
     "execution_count": 80,
     "metadata": {},
     "output_type": "execute_result"
    }
   ],
   "source": [
    "140/427"
   ]
  },
  {
   "cell_type": "markdown",
   "metadata": {},
   "source": [
    "one third of the nodes have no neighbors.  These nodes are not effected by the convolution operation.\n",
    "\n",
    "now  look at the sizes of the connected components."
   ]
  },
  {
   "cell_type": "code",
   "execution_count": 98,
   "metadata": {},
   "outputs": [],
   "source": [
    "comp = nx.connected_components(G)"
   ]
  },
  {
   "cell_type": "code",
   "execution_count": 99,
   "metadata": {},
   "outputs": [
    {
     "name": "stdout",
     "output_type": "stream",
     "text": [
      "[  0.  76.  10.   3.   2.   2. 304.]\n"
     ]
    }
   ],
   "source": [
    "num_comp = 0\n",
    "comp_size = np.zeros(7)\n",
    "for x in comp:\n",
    "    x_size =  0\n",
    "    for n in x:\n",
    "        if G.node[n]['flavor'] == 'article':\n",
    "            x_size += 1\n",
    "    if x_size > 6:\n",
    "        comp_size[6] = x_size\n",
    "    else:\n",
    "        comp_size[x_size] += 1\n",
    "print(comp_size)"
   ]
  },
  {
   "cell_type": "code",
   "execution_count": 101,
   "metadata": {},
   "outputs": [
    {
     "data": {
      "text/plain": [
       "427.0"
      ]
     },
     "execution_count": 101,
     "metadata": {},
     "output_type": "execute_result"
    }
   ],
   "source": [
    "total_nodes = 0\n",
    "for i in range(6):\n",
    "    total_nodes += comp_size[i]*i\n",
    "total_nodes + 304"
   ]
  },
  {
   "cell_type": "code",
   "execution_count": 102,
   "metadata": {},
   "outputs": [],
   "source": [
    "tot = (76+10*2 +3*3 +4*(2+2+304))/427"
   ]
  },
  {
   "cell_type": "code",
   "execution_count": 103,
   "metadata": {},
   "outputs": [
    {
     "data": {
      "text/plain": [
       "3.1311475409836067"
      ]
     },
     "execution_count": 103,
     "metadata": {},
     "output_type": "execute_result"
    }
   ],
   "source": [
    "tot"
   ]
  },
  {
   "cell_type": "code",
   "execution_count": null,
   "metadata": {},
   "outputs": [],
   "source": []
  }
 ],
 "metadata": {
  "kernelspec": {
   "display_name": "Python 3",
   "language": "python",
   "name": "python3"
  },
  "language_info": {
   "codemirror_mode": {
    "name": "ipython",
    "version": 3
   },
   "file_extension": ".py",
   "mimetype": "text/x-python",
   "name": "python",
   "nbconvert_exporter": "python",
   "pygments_lexer": "ipython3",
   "version": "3.7.4"
  }
 },
 "nbformat": 4,
 "nbformat_minor": 2
}
